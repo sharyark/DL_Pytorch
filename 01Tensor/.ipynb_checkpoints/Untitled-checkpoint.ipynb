{
 "cells": [
  {
   "cell_type": "code",
   "execution_count": 1,
   "id": "8f192e6d-b6fa-416d-9e80-38956547a442",
   "metadata": {},
   "outputs": [],
   "source": [
    "import torch as t"
   ]
  },
  {
   "cell_type": "code",
   "execution_count": 82,
   "id": "34bdf742-160f-4059-95fe-212fbfa52e97",
   "metadata": {},
   "outputs": [
    {
     "name": "stdout",
     "output_type": "stream",
     "text": [
      "2.5.1+cu124\n"
     ]
    }
   ],
   "source": [
    "print(t.__version__)"
   ]
  },
  {
   "cell_type": "code",
   "execution_count": 85,
   "id": "818e2948-f9a5-4635-8473-1764a2d73a39",
   "metadata": {},
   "outputs": [
    {
     "name": "stdout",
     "output_type": "stream",
     "text": [
      "GPU is available\n",
      "GPU is  NVIDIA GeForce GTX 1650\n"
     ]
    }
   ],
   "source": [
    "if t.cuda.is_available():\n",
    "    print(\"GPU is available\")\n",
    "    print(\"GPU is \",t.cuda.get_device_name())\n",
    "else:\n",
    "    print(\"GPU is not available\")"
   ]
  },
  {
   "cell_type": "code",
   "execution_count": null,
   "id": "c4d584a4-a360-462d-9370-2203ec61a7f1",
   "metadata": {},
   "outputs": [],
   "source": [
    "# creating tensor in pytorch\n",
    "t.empty(2,3) #it allocate memory for us "
   ]
  },
  {
   "cell_type": "code",
   "execution_count": null,
   "id": "aceff0eb-c19e-448b-9696-db48e7fcd146",
   "metadata": {},
   "outputs": [],
   "source": [
    "# using zeros\n",
    "t.zeros(3,3)"
   ]
  },
  {
   "cell_type": "code",
   "execution_count": null,
   "id": "a50687e4-ace1-438f-96c8-74cce808cfaa",
   "metadata": {},
   "outputs": [],
   "source": [
    "# using ones\n",
    "t.ones(2,2)"
   ]
  },
  {
   "cell_type": "code",
   "execution_count": null,
   "id": "b7fe72ae-3155-4e12-b60f-90d707bb1997",
   "metadata": {},
   "outputs": [],
   "source": [
    "# using rand\n",
    "t.rand(3,3)"
   ]
  },
  {
   "cell_type": "code",
   "execution_count": null,
   "id": "4a874e62-a732-4b72-aecd-f25014963ee9",
   "metadata": {},
   "outputs": [],
   "source": [
    "# manual seed \n",
    "t.manual_seed(10)\n",
    "t.rand(2,2)"
   ]
  },
  {
   "cell_type": "code",
   "execution_count": null,
   "id": "7b7284df-290c-40b2-83ef-7661c25504a0",
   "metadata": {},
   "outputs": [],
   "source": [
    "# using tensor or making custom tensor\n",
    "t.tensor([[2],[3]])"
   ]
  },
  {
   "cell_type": "code",
   "execution_count": null,
   "id": "d144eb38-2569-443e-bd43-2f02294e5511",
   "metadata": {},
   "outputs": [],
   "source": [
    "# arrange\n",
    "t.arange(0,5,1)"
   ]
  },
  {
   "cell_type": "code",
   "execution_count": null,
   "id": "adde6f12-9281-4df5-adce-211dcddee094",
   "metadata": {},
   "outputs": [],
   "source": [
    "# using linspace it is linear space\n",
    "t.linspace(1,6,2)"
   ]
  },
  {
   "cell_type": "code",
   "execution_count": null,
   "id": "d066afaf-1cd2-442e-bd5e-bc94f4c94a39",
   "metadata": {},
   "outputs": [],
   "source": [
    "# using eye or identity matrix or tensor\n",
    "t.eye(5)"
   ]
  },
  {
   "cell_type": "code",
   "execution_count": null,
   "id": "cdb42b65-876d-4848-8fdf-bdfe695cdfc2",
   "metadata": {},
   "outputs": [],
   "source": [
    "# using full it fill with costum values\n",
    "t.full((2,2),3)"
   ]
  },
  {
   "cell_type": "code",
   "execution_count": 3,
   "id": "a0befcdc-a68e-46ba-83c1-37e8dea30a30",
   "metadata": {},
   "outputs": [],
   "source": [
    "# tensor shapes\n"
   ]
  },
  {
   "cell_type": "code",
   "execution_count": 4,
   "id": "8f92c7d7-b7c7-4d6d-a7e3-624fe127d614",
   "metadata": {},
   "outputs": [],
   "source": [
    "x = t.tensor([[1,2,3],[4,5,6]])"
   ]
  },
  {
   "cell_type": "code",
   "execution_count": 5,
   "id": "ce511155-d348-43e5-969c-61c160f418dd",
   "metadata": {},
   "outputs": [
    {
     "data": {
      "text/plain": [
       "tensor([[1, 2, 3],\n",
       "        [4, 5, 6]])"
      ]
     },
     "execution_count": 5,
     "metadata": {},
     "output_type": "execute_result"
    }
   ],
   "source": [
    "x"
   ]
  },
  {
   "cell_type": "code",
   "execution_count": 6,
   "id": "4b888340-c5ed-461a-bff4-6fb5115ef13f",
   "metadata": {},
   "outputs": [
    {
     "data": {
      "text/plain": [
       "torch.Size([2, 3])"
      ]
     },
     "execution_count": 6,
     "metadata": {},
     "output_type": "execute_result"
    }
   ],
   "source": [
    "x.shape"
   ]
  },
  {
   "cell_type": "code",
   "execution_count": 7,
   "id": "60a153ba-bacb-44a5-8799-82a8e8c22dac",
   "metadata": {},
   "outputs": [
    {
     "data": {
      "text/plain": [
       "tensor([[          351879261,                   0,        485331304447],\n",
       "        [7882770745416578145, 7598263560199304304, 8317129565128648036]])"
      ]
     },
     "execution_count": 7,
     "metadata": {},
     "output_type": "execute_result"
    }
   ],
   "source": [
    " # if you wnat to make tensor with same previous tensor shape\n",
    "t.empty_like(x)"
   ]
  },
  {
   "cell_type": "code",
   "execution_count": 8,
   "id": "5f527e85-28df-4b8b-9305-79484561dca4",
   "metadata": {},
   "outputs": [
    {
     "data": {
      "text/plain": [
       "tensor([[0, 0, 0],\n",
       "        [0, 0, 0]])"
      ]
     },
     "execution_count": 8,
     "metadata": {},
     "output_type": "execute_result"
    }
   ],
   "source": [
    "# or we also have \n",
    "t.zeros_like(x)"
   ]
  },
  {
   "cell_type": "code",
   "execution_count": 9,
   "id": "83130dd2-7bd9-4ec5-ab26-69e4743ac8d2",
   "metadata": {},
   "outputs": [
    {
     "data": {
      "text/plain": [
       "tensor([[1, 1, 1],\n",
       "        [1, 1, 1]])"
      ]
     },
     "execution_count": 9,
     "metadata": {},
     "output_type": "execute_result"
    }
   ],
   "source": [
    "# or \n",
    "t.ones_like(x)"
   ]
  },
  {
   "cell_type": "code",
   "execution_count": 10,
   "id": "d5875cc1-a18d-4913-8670-df28845f0c20",
   "metadata": {},
   "outputs": [
    {
     "data": {
      "text/plain": [
       "torch.int64"
      ]
     },
     "execution_count": 10,
     "metadata": {},
     "output_type": "execute_result"
    }
   ],
   "source": [
    "# tensor datat type\n",
    "x.dtype"
   ]
  },
  {
   "cell_type": "code",
   "execution_count": 11,
   "id": "77aa6f76-8ab6-4b13-8d9f-db4990f8cb37",
   "metadata": {},
   "outputs": [],
   "source": [
    "# we can specify data type \n",
    "y = t.tensor([[1,2,3],[2,3,4]],dtype=t.float32)"
   ]
  },
  {
   "cell_type": "code",
   "execution_count": 12,
   "id": "ee8afaba-e1b6-461d-bb32-382bd243ef43",
   "metadata": {},
   "outputs": [
    {
     "data": {
      "text/plain": [
       "tensor([[1., 2., 3.],\n",
       "        [2., 3., 4.]])"
      ]
     },
     "execution_count": 12,
     "metadata": {},
     "output_type": "execute_result"
    }
   ],
   "source": [
    "y"
   ]
  },
  {
   "cell_type": "code",
   "execution_count": 13,
   "id": "07bbe3b5-c905-48c9-b0f8-d5f047b93273",
   "metadata": {},
   "outputs": [
    {
     "data": {
      "text/plain": [
       "tensor([[1, 2, 3],\n",
       "        [2, 3, 4]], dtype=torch.int32)"
      ]
     },
     "execution_count": 13,
     "metadata": {},
     "output_type": "execute_result"
    }
   ],
   "source": [
    "# also we can change it \n",
    "y.to(t.int32)"
   ]
  },
  {
   "cell_type": "code",
   "execution_count": 14,
   "id": "027aea1f-0acf-4814-b96d-22ecb28b82b0",
   "metadata": {},
   "outputs": [
    {
     "data": {
      "text/plain": [
       "tensor([[2.2972, 2.0268, 2.6398],\n",
       "        [2.1219, 2.5815, 2.7252]])"
      ]
     },
     "execution_count": 14,
     "metadata": {},
     "output_type": "execute_result"
    }
   ],
   "source": [
    "# mathematical operation \n",
    "# 1 scalar operation\n",
    "a = t.rand(2,3)\n",
    "2+a"
   ]
  },
  {
   "cell_type": "code",
   "execution_count": 15,
   "id": "1384dba4-b967-4e69-aa23-13a002676b5d",
   "metadata": {},
   "outputs": [
    {
     "data": {
      "text/plain": [
       "tensor([[1.7028, 1.9732, 1.3602],\n",
       "        [1.8781, 1.4185, 1.2748]])"
      ]
     },
     "execution_count": 15,
     "metadata": {},
     "output_type": "execute_result"
    }
   ],
   "source": [
    "2-a"
   ]
  },
  {
   "cell_type": "code",
   "execution_count": 16,
   "id": "575fe83a-6367-423d-bbcf-90c07199cc7f",
   "metadata": {},
   "outputs": [
    {
     "data": {
      "text/plain": [
       "tensor([[0.5945, 0.0537, 1.2796],\n",
       "        [0.2437, 1.1630, 1.4503]])"
      ]
     },
     "execution_count": 16,
     "metadata": {},
     "output_type": "execute_result"
    }
   ],
   "source": [
    "2*a"
   ]
  },
  {
   "cell_type": "code",
   "execution_count": 20,
   "id": "20332b0a-7f09-451a-8f97-7ab562f62080",
   "metadata": {},
   "outputs": [
    {
     "data": {
      "text/plain": [
       "tensor([[0., 0., 0.],\n",
       "        [0., 0., 0.]])"
      ]
     },
     "execution_count": 20,
     "metadata": {},
     "output_type": "execute_result"
    }
   ],
   "source": [
    "a/2 #this is simple division\n",
    "a//2 #this is integer division"
   ]
  },
  {
   "cell_type": "code",
   "execution_count": 21,
   "id": "6ddcca41-9269-492e-84bc-c7b276579b27",
   "metadata": {},
   "outputs": [
    {
     "data": {
      "text/plain": [
       "tensor([[0.2972, 0.0268, 0.6398],\n",
       "        [0.1219, 0.5815, 0.7252]])"
      ]
     },
     "execution_count": 21,
     "metadata": {},
     "output_type": "execute_result"
    }
   ],
   "source": [
    "a%2"
   ]
  },
  {
   "cell_type": "code",
   "execution_count": 22,
   "id": "ce048641-e26d-4f7b-b85f-5cfcbc3d4dd9",
   "metadata": {},
   "outputs": [
    {
     "data": {
      "text/plain": [
       "tensor([[0.0884, 0.0007, 0.4094],\n",
       "        [0.0149, 0.3381, 0.5258]])"
      ]
     },
     "execution_count": 22,
     "metadata": {},
     "output_type": "execute_result"
    }
   ],
   "source": [
    "a**2"
   ]
  },
  {
   "cell_type": "code",
   "execution_count": 31,
   "id": "43fd1b8a-56b4-4fdb-8b3f-297a812dd293",
   "metadata": {},
   "outputs": [],
   "source": [
    "b = t.rand(2,3)"
   ]
  },
  {
   "cell_type": "code",
   "execution_count": 32,
   "id": "fc8d700c-3bac-4698-9d37-889ebb23658e",
   "metadata": {},
   "outputs": [
    {
     "data": {
      "text/plain": [
       "torch.Size([2, 3])"
      ]
     },
     "execution_count": 32,
     "metadata": {},
     "output_type": "execute_result"
    }
   ],
   "source": [
    "# a,b\n",
    "a.shape"
   ]
  },
  {
   "cell_type": "code",
   "execution_count": 35,
   "id": "4c5e166a-a493-42b7-a585-7ff76d79dc28",
   "metadata": {},
   "outputs": [
    {
     "data": {
      "text/plain": [
       "tensor([[0.9343, 0.0297, 1.8973],\n",
       "        [1.5910, 0.6171, 2.5470]])"
      ]
     },
     "execution_count": 35,
     "metadata": {},
     "output_type": "execute_result"
    }
   ],
   "source": [
    "# element wise operation\n",
    "a + b # print it if you want\n",
    "a - b # print it if you want\n",
    "a * b # print it if you want\n",
    "a / b # printing"
   ]
  },
  {
   "cell_type": "code",
   "execution_count": 37,
   "id": "27ef9e8b-1889-4993-9876-42436c65dd99",
   "metadata": {},
   "outputs": [
    {
     "data": {
      "text/plain": [
       "tensor([[0.2972, 0.0268, 0.6398],\n",
       "        [0.1219, 0.5815, 0.7252]])"
      ]
     },
     "execution_count": 37,
     "metadata": {},
     "output_type": "execute_result"
    }
   ],
   "source": [
    "# aboslute value\n",
    "t.abs(a) #each element will come like this"
   ]
  },
  {
   "cell_type": "code",
   "execution_count": 38,
   "id": "6f53e0e6-7708-4388-ac98-c4250c0e4923",
   "metadata": {},
   "outputs": [],
   "source": [
    "# similar ceil and floor\n",
    "# clamping operation\n",
    "# t.clamp() # it clamping or ranging value"
   ]
  },
  {
   "cell_type": "code",
   "execution_count": 40,
   "id": "0013dcd7-33c1-411d-ba41-be31ac3dca3b",
   "metadata": {},
   "outputs": [
    {
     "data": {
      "text/plain": [
       "tensor([[0.5683, 0.5701, 0.0019],\n",
       "        [0.8946, 0.3499, 0.3361],\n",
       "        [0.5051, 0.9132, 0.8269]])"
      ]
     },
     "execution_count": 40,
     "metadata": {},
     "output_type": "execute_result"
    }
   ],
   "source": [
    "# reduction operation\n",
    "x = t.rand(3,3)\n",
    "x"
   ]
  },
  {
   "cell_type": "code",
   "execution_count": 41,
   "id": "1de01003-2f2b-447b-bee4-dcace1dc7a11",
   "metadata": {},
   "outputs": [
    {
     "data": {
      "text/plain": [
       "tensor(4.9660)"
      ]
     },
     "execution_count": 41,
     "metadata": {},
     "output_type": "execute_result"
    }
   ],
   "source": [
    "t.sum(x)"
   ]
  },
  {
   "cell_type": "code",
   "execution_count": 42,
   "id": "1ede4c2c-1d82-478a-9e2b-c244f2d8d681",
   "metadata": {},
   "outputs": [
    {
     "data": {
      "text/plain": [
       "tensor([1.9680, 1.8331, 1.1649])"
      ]
     },
     "execution_count": 42,
     "metadata": {},
     "output_type": "execute_result"
    }
   ],
   "source": [
    "# or if want to column wise axis 0 is for column and 1 is for rowvice\n",
    "t.sum(x,axis=0)"
   ]
  },
  {
   "cell_type": "code",
   "execution_count": 46,
   "id": "b00aefb6-2fe8-46c8-bd23-957ebbc1db41",
   "metadata": {},
   "outputs": [
    {
     "data": {
      "text/plain": [
       "tensor(0.5518)"
      ]
     },
     "execution_count": 46,
     "metadata": {},
     "output_type": "execute_result"
    }
   ],
   "source": [
    "t.mean(x)"
   ]
  },
  {
   "cell_type": "code",
   "execution_count": 47,
   "id": "dbb68c8e-c734-4dfb-81cc-69956eb9f6d4",
   "metadata": {},
   "outputs": [
    {
     "data": {
      "text/plain": [
       "tensor([0.3801, 0.5269, 0.7484])"
      ]
     },
     "execution_count": 47,
     "metadata": {},
     "output_type": "execute_result"
    }
   ],
   "source": [
    "t.mean(x,axis=1)"
   ]
  },
  {
   "cell_type": "code",
   "execution_count": 49,
   "id": "5cd2f327-c865-474d-9fd9-e7a1995571f7",
   "metadata": {},
   "outputs": [],
   "source": [
    "# there are so many mathematical operation that we can perform \n",
    "# like mat multiplication(dot product) transpose and determinant etc so on...\n",
    "# google it or see documentation of it\n"
   ]
  },
  {
   "cell_type": "code",
   "execution_count": 50,
   "id": "567e8cb6-5229-468d-bd8a-4397afd5d4ac",
   "metadata": {},
   "outputs": [
    {
     "data": {
      "text/plain": [
       "tensor([[False, False,  True],\n",
       "        [ True, False,  True]])"
      ]
     },
     "execution_count": 50,
     "metadata": {},
     "output_type": "execute_result"
    }
   ],
   "source": [
    "# comparision operation\n",
    "a > b"
   ]
  },
  {
   "cell_type": "code",
   "execution_count": 51,
   "id": "04eb6862-5afa-4481-beff-570c01b03805",
   "metadata": {},
   "outputs": [
    {
     "data": {
      "text/plain": [
       "tensor([[ True,  True, False],\n",
       "        [False,  True, False]])"
      ]
     },
     "execution_count": 51,
     "metadata": {},
     "output_type": "execute_result"
    }
   ],
   "source": [
    "a < b"
   ]
  },
  {
   "cell_type": "code",
   "execution_count": 52,
   "id": "787a7c0d-4c70-406a-a472-7f46b098be6a",
   "metadata": {},
   "outputs": [
    {
     "data": {
      "text/plain": [
       "tensor([[False, False, False],\n",
       "        [False, False, False]])"
      ]
     },
     "execution_count": 52,
     "metadata": {},
     "output_type": "execute_result"
    }
   ],
   "source": [
    "a == b"
   ]
  },
  {
   "cell_type": "code",
   "execution_count": 53,
   "id": "d231e377-5c13-4a4c-b4c0-524157ed7603",
   "metadata": {},
   "outputs": [
    {
     "data": {
      "text/plain": [
       "tensor([[True, True, True],\n",
       "        [True, True, True]])"
      ]
     },
     "execution_count": 53,
     "metadata": {},
     "output_type": "execute_result"
    }
   ],
   "source": [
    "a != b"
   ]
  },
  {
   "cell_type": "code",
   "execution_count": 54,
   "id": "fecd6935-d2bd-49ca-85aa-2d10a98dd04b",
   "metadata": {},
   "outputs": [
    {
     "data": {
      "text/plain": [
       "tensor([[False, False,  True],\n",
       "        [ True, False,  True]])"
      ]
     },
     "execution_count": 54,
     "metadata": {},
     "output_type": "execute_result"
    }
   ],
   "source": [
    "a >= b"
   ]
  },
  {
   "cell_type": "code",
   "execution_count": 55,
   "id": "7e18a5e9-9684-4434-8bca-4e8f7e5094e3",
   "metadata": {},
   "outputs": [
    {
     "data": {
      "text/plain": [
       "tensor([[ True,  True, False],\n",
       "        [False,  True, False]])"
      ]
     },
     "execution_count": 55,
     "metadata": {},
     "output_type": "execute_result"
    }
   ],
   "source": [
    "a <= b"
   ]
  },
  {
   "cell_type": "code",
   "execution_count": 56,
   "id": "a47df0ce-1156-484d-b7b9-7751015bd5cb",
   "metadata": {},
   "outputs": [
    {
     "data": {
      "text/plain": [
       "tensor([[-1.2132, -3.6182, -0.4466],\n",
       "        [-2.1049, -0.5422, -0.3214]])"
      ]
     },
     "execution_count": 56,
     "metadata": {},
     "output_type": "execute_result"
    }
   ],
   "source": [
    "t.log(a)"
   ]
  },
  {
   "cell_type": "code",
   "execution_count": 57,
   "id": "61e1d5e4-ca55-439c-8573-bcca3a74ad47",
   "metadata": {},
   "outputs": [
    {
     "data": {
      "text/plain": [
       "tensor([[1.3461, 1.0272, 1.8961],\n",
       "        [1.1296, 1.7887, 2.0650]])"
      ]
     },
     "execution_count": 57,
     "metadata": {},
     "output_type": "execute_result"
    }
   ],
   "source": [
    "t.exp(a)"
   ]
  },
  {
   "cell_type": "code",
   "execution_count": 58,
   "id": "bf1e91fe-f6d7-4150-9c75-5feb8aa9dfa4",
   "metadata": {},
   "outputs": [
    {
     "data": {
      "text/plain": [
       "tensor([[0.5452, 0.1638, 0.7999],\n",
       "        [0.3491, 0.7626, 0.8516]])"
      ]
     },
     "execution_count": 58,
     "metadata": {},
     "output_type": "execute_result"
    }
   ],
   "source": [
    "t.sqrt(a)"
   ]
  },
  {
   "cell_type": "code",
   "execution_count": 59,
   "id": "7709ea31-1317-44b1-935a-957bb931060c",
   "metadata": {},
   "outputs": [
    {
     "data": {
      "text/plain": [
       "tensor([[0.5738, 0.5067, 0.6547],\n",
       "        [0.5304, 0.6414, 0.6737]])"
      ]
     },
     "execution_count": 59,
     "metadata": {},
     "output_type": "execute_result"
    }
   ],
   "source": [
    "t.sigmoid(a)"
   ]
  },
  {
   "cell_type": "code",
   "execution_count": 61,
   "id": "8f185bb0-1a1d-41a6-8f73-ea47ad7e8908",
   "metadata": {},
   "outputs": [
    {
     "data": {
      "text/plain": [
       "tensor([[0.3153, 0.2406, 0.4441],\n",
       "        [0.2267, 0.3589, 0.4144]])"
      ]
     },
     "execution_count": 61,
     "metadata": {},
     "output_type": "execute_result"
    }
   ],
   "source": [
    "t.softmax(a,axis=1) #dimension must be give"
   ]
  },
  {
   "cell_type": "code",
   "execution_count": 69,
   "id": "dc8f58d8-dfc2-4990-9da3-f16a20d1bffd",
   "metadata": {},
   "outputs": [],
   "source": [
    "# inplace operation\n",
    "# _ this underscore change operation in inplace\n",
    "m = t.rand(2,2)\n",
    "n = t.rand(2,2)"
   ]
  },
  {
   "cell_type": "code",
   "execution_count": 70,
   "id": "5b44dc98-3e4f-4c4c-8c30-e3ffffc61851",
   "metadata": {},
   "outputs": [
    {
     "data": {
      "text/plain": [
       "tensor([[1.1087, 1.5055],\n",
       "        [1.4703, 0.6141]])"
      ]
     },
     "execution_count": 70,
     "metadata": {},
     "output_type": "execute_result"
    }
   ],
   "source": [
    "m.add_(n)"
   ]
  },
  {
   "cell_type": "code",
   "execution_count": 71,
   "id": "2549b2d5-d2ca-4f18-ba97-11db1a5b1652",
   "metadata": {},
   "outputs": [
    {
     "data": {
      "text/plain": [
       "tensor([[1.1087, 1.5055],\n",
       "        [1.4703, 0.6141]])"
      ]
     },
     "execution_count": 71,
     "metadata": {},
     "output_type": "execute_result"
    }
   ],
   "source": [
    "m"
   ]
  },
  {
   "cell_type": "code",
   "execution_count": 72,
   "id": "b596de01-795a-47a2-ac5c-3891f9bcaf14",
   "metadata": {},
   "outputs": [
    {
     "data": {
      "text/plain": [
       "tensor([[1.1087, 1.5055],\n",
       "        [1.4703, 0.6141]])"
      ]
     },
     "execution_count": 72,
     "metadata": {},
     "output_type": "execute_result"
    }
   ],
   "source": [
    "t.relu_(m)"
   ]
  },
  {
   "cell_type": "code",
   "execution_count": 73,
   "id": "918935ae-5a03-46a4-962a-cc7121e356a7",
   "metadata": {},
   "outputs": [
    {
     "data": {
      "text/plain": [
       "tensor([[1.1087, 1.5055],\n",
       "        [1.4703, 0.6141]])"
      ]
     },
     "execution_count": 73,
     "metadata": {},
     "output_type": "execute_result"
    }
   ],
   "source": [
    "m"
   ]
  },
  {
   "cell_type": "code",
   "execution_count": 75,
   "id": "91b98721-b0a3-4a46-9ee0-4e583826a3ce",
   "metadata": {},
   "outputs": [],
   "source": [
    "# copying a tensor\n",
    "c = a.clone() # it deeply copy a tensor"
   ]
  },
  {
   "cell_type": "code",
   "execution_count": 76,
   "id": "9401d395-cd30-4ce2-84d3-2b15218d2e43",
   "metadata": {},
   "outputs": [],
   "source": [
    "# performing tensor operation on gpu"
   ]
  },
  {
   "cell_type": "code",
   "execution_count": 77,
   "id": "6ccb5e3a-cac6-40ff-8e88-912275d5b572",
   "metadata": {},
   "outputs": [],
   "source": [
    "device = t.device('cuda')"
   ]
  },
  {
   "cell_type": "code",
   "execution_count": 78,
   "id": "51488c52-e25c-47a4-9e77-d4c6e1c74cf5",
   "metadata": {},
   "outputs": [
    {
     "data": {
      "text/plain": [
       "device(type='cuda')"
      ]
     },
     "execution_count": 78,
     "metadata": {},
     "output_type": "execute_result"
    }
   ],
   "source": [
    "device"
   ]
  },
  {
   "cell_type": "code",
   "execution_count": 80,
   "id": "1b5adeea-1731-4f21-9f2f-079a50239338",
   "metadata": {},
   "outputs": [
    {
     "data": {
      "text/plain": [
       "tensor([[0.1761, 0.6925, 0.7344],\n",
       "        [0.4357, 0.7037, 0.0104]], device='cuda:0')"
      ]
     },
     "execution_count": 80,
     "metadata": {},
     "output_type": "execute_result"
    }
   ],
   "source": [
    "# creating a new tensor on GPU\n",
    "t.rand((2,3),device=device)"
   ]
  },
  {
   "cell_type": "code",
   "execution_count": 88,
   "id": "e8dafcb0-2a18-4e35-a066-ee34f1551b2a",
   "metadata": {},
   "outputs": [],
   "source": [
    "# exiting tensor shift on gpu\n",
    "a = m.to(m)"
   ]
  },
  {
   "cell_type": "code",
   "execution_count": 97,
   "id": "e7879f95-3983-42c9-951d-59351f81aa0e",
   "metadata": {},
   "outputs": [
    {
     "name": "stdout",
     "output_type": "stream",
     "text": [
      "Matrix multiplication on CPU took: 3.538332 seconds\n",
      "cuda\n",
      "Matrix multiplication on GPU took: 0.000143 seconds\n"
     ]
    }
   ],
   "source": [
    "import torch\n",
    "import time\n",
    "\n",
    "# Set device to CPU for the first part\n",
    "device_cpu = torch.device('cpu')\n",
    "\n",
    "# Create two random matrices on CPU (size 1000x1000 for example)\n",
    "matrix_a_cpu = torch.randn(10000, 10000, device=device_cpu)\n",
    "matrix_b_cpu = torch.randn(10000, 10000, device=device_cpu)\n",
    "\n",
    "# Time the multiplication on CPU\n",
    "start_time_cpu = time.time()\n",
    "result_cpu = torch.mm(matrix_a_cpu, matrix_b_cpu)  # Matrix multiplication\n",
    "end_time_cpu = time.time()\n",
    "\n",
    "cpu_time = end_time_cpu - start_time_cpu\n",
    "print(f\"Matrix multiplication on CPU took: {cpu_time:.6f} seconds\")\n",
    "\n",
    "# Set device to GPU if available\n",
    "device_gpu = torch.device('cuda' if torch.cuda.is_available() else 'cpu')\n",
    "print(device_gpu)\n",
    "# Move the matrices to GPU\n",
    "matrix_a_gpu = matrix_a_cpu.to(device_gpu)\n",
    "matrix_b_gpu = matrix_b_cpu.to(device_gpu)\n",
    "\n",
    "# Time the multiplication on GPU\n",
    "start_time_gpu = time.time()\n",
    "result_gpu = torch.mm(matrix_a_gpu, matrix_b_gpu)  # Matrix multiplication on GPU\n",
    "end_time_gpu = time.time()\n",
    "\n",
    "gpu_time = end_time_gpu - start_time_gpu\n",
    "print(f\"Matrix multiplication on GPU took: {gpu_time:.6f} seconds\")\n"
   ]
  },
  {
   "cell_type": "code",
   "execution_count": 100,
   "id": "eda56f32-4799-44a5-ab3a-0cc43e5458aa",
   "metadata": {},
   "outputs": [
    {
     "data": {
      "text/plain": [
       "tensor([[1., 1., 1., 1.],\n",
       "        [1., 1., 1., 1.],\n",
       "        [1., 1., 1., 1.],\n",
       "        [1., 1., 1., 1.]])"
      ]
     },
     "execution_count": 100,
     "metadata": {},
     "output_type": "execute_result"
    }
   ],
   "source": [
    "# reshping tensor\n",
    "a = t.ones(4,4)\n",
    "a"
   ]
  },
  {
   "cell_type": "code",
   "execution_count": 102,
   "id": "1993ab4e-3c66-459d-ac12-492997dcc978",
   "metadata": {},
   "outputs": [
    {
     "data": {
      "text/plain": [
       "tensor([[[[1., 1.],\n",
       "          [1., 1.]],\n",
       "\n",
       "         [[1., 1.],\n",
       "          [1., 1.]]],\n",
       "\n",
       "\n",
       "        [[[1., 1.],\n",
       "          [1., 1.]],\n",
       "\n",
       "         [[1., 1.],\n",
       "          [1., 1.]]]])"
      ]
     },
     "execution_count": 102,
     "metadata": {},
     "output_type": "execute_result"
    }
   ],
   "source": [
    "a.reshape(2,2,2,2)"
   ]
  },
  {
   "cell_type": "code",
   "execution_count": 103,
   "id": "6aa7827b-3ee8-4892-a8f3-99e6a1ec81fd",
   "metadata": {},
   "outputs": [
    {
     "data": {
      "text/plain": [
       "tensor([1., 1., 1., 1., 1., 1., 1., 1., 1., 1., 1., 1., 1., 1., 1., 1.])"
      ]
     },
     "execution_count": 103,
     "metadata": {},
     "output_type": "execute_result"
    }
   ],
   "source": [
    "a.flatten()"
   ]
  },
  {
   "cell_type": "code",
   "execution_count": 119,
   "id": "f90e3ddc-249e-4b13-83d0-7f9f332547d1",
   "metadata": {},
   "outputs": [
    {
     "data": {
      "text/plain": [
       "(torch.Size([2, 2]),\n",
       " tensor([[0.5742, 0.3826],\n",
       "         [0.4001, 0.0481]]))"
      ]
     },
     "execution_count": 119,
     "metadata": {},
     "output_type": "execute_result"
    }
   ],
   "source": [
    "# unsquze it adding additional dimension in \n",
    "# where you want to put you can\n",
    "x = t.rand(2,2)\n",
    "x.shape,x"
   ]
  },
  {
   "cell_type": "code",
   "execution_count": 120,
   "id": "d1d28fdc-5ff7-4456-b939-9c945f715a52",
   "metadata": {},
   "outputs": [
    {
     "data": {
      "text/plain": [
       "tensor([[[0.5742],\n",
       "         [0.3826]],\n",
       "\n",
       "        [[0.4001],\n",
       "         [0.0481]]])"
      ]
     },
     "execution_count": 120,
     "metadata": {},
     "output_type": "execute_result"
    }
   ],
   "source": [
    "x.unsqueeze(2)"
   ]
  },
  {
   "cell_type": "code",
   "execution_count": 121,
   "id": "482b10c0-47b9-463f-9f65-b28109ee2e2d",
   "metadata": {},
   "outputs": [
    {
     "data": {
      "text/plain": [
       "torch.Size([2, 2, 1])"
      ]
     },
     "execution_count": 121,
     "metadata": {},
     "output_type": "execute_result"
    }
   ],
   "source": [
    "x.unsqueeze(2).shape"
   ]
  },
  {
   "cell_type": "code",
   "execution_count": 123,
   "id": "aeb6f6aa-3fc1-4e91-9f63-4b10ba808a13",
   "metadata": {},
   "outputs": [
    {
     "data": {
      "text/plain": [
       "tensor([[0.5742, 0.3826],\n",
       "        [0.4001, 0.0481]])"
      ]
     },
     "execution_count": 123,
     "metadata": {},
     "output_type": "execute_result"
    }
   ],
   "source": [
    "# squeez is its opposite one\n",
    "x.squeeze(0)"
   ]
  },
  {
   "cell_type": "code",
   "execution_count": null,
   "id": "b59d8a05-a5c1-4e11-b751-60f596b4a081",
   "metadata": {},
   "outputs": [],
   "source": [
    "# numpy vs pytorch and interoperability\n",
    "# it is so easy to work each other \n"
   ]
  }
 ],
 "metadata": {
  "kernelspec": {
   "display_name": "Python 3 (ipykernel)",
   "language": "python",
   "name": "python3"
  },
  "language_info": {
   "codemirror_mode": {
    "name": "ipython",
    "version": 3
   },
   "file_extension": ".py",
   "mimetype": "text/x-python",
   "name": "python",
   "nbconvert_exporter": "python",
   "pygments_lexer": "ipython3",
   "version": "3.12.3"
  }
 },
 "nbformat": 4,
 "nbformat_minor": 5
}
