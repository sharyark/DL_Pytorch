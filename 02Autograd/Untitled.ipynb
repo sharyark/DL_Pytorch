{
 "cells": [
  {
   "cell_type": "code",
   "execution_count": 2,
   "id": "2affede2-4ce0-4b32-8a53-338d374dfc83",
   "metadata": {},
   "outputs": [],
   "source": [
    "import torch as t"
   ]
  },
  {
   "cell_type": "markdown",
   "id": "14178b5f-cbca-46b7-82d4-05bbdc8995e1",
   "metadata": {},
   "source": [
    "#Autograd is a core component of pytorch that provide automatic differentiation for tensor \n",
    "operation it enables gradient computation which is essential for training machine learning \n",
    "models using optimization algorithms like gradient descent"
   ]
  },
  {
   "cell_type": "code",
   "execution_count": 3,
   "id": "12df7ea0-4c13-4ee3-b3fd-4925e45235ef",
   "metadata": {},
   "outputs": [],
   "source": [
    "# manually finding grad\n",
    "def dy_dx(c):\n",
    "    return 2*c"
   ]
  },
  {
   "cell_type": "code",
   "execution_count": 4,
   "id": "749e8099-27e0-4529-ae9a-702464d4cc57",
   "metadata": {},
   "outputs": [
    {
     "data": {
      "text/plain": [
       "6"
      ]
     },
     "execution_count": 4,
     "metadata": {},
     "output_type": "execute_result"
    }
   ],
   "source": [
    "dy_dx(3)"
   ]
  },
  {
   "cell_type": "code",
   "execution_count": 5,
   "id": "b4e4e892-5757-43ba-95f0-ed0e61653e40",
   "metadata": {},
   "outputs": [],
   "source": [
    "x = t.tensor(30.0, requires_grad=True) #"
   ]
  },
  {
   "cell_type": "code",
   "execution_count": 6,
   "id": "a62fa193-93b8-447f-8cf6-e0a5a05d127f",
   "metadata": {},
   "outputs": [],
   "source": [
    "y = x**2"
   ]
  },
  {
   "cell_type": "code",
   "execution_count": 7,
   "id": "972c3a0c-3454-410e-b6a0-4c5428068b3f",
   "metadata": {},
   "outputs": [
    {
     "data": {
      "text/plain": [
       "tensor(900., grad_fn=<PowBackward0>)"
      ]
     },
     "execution_count": 7,
     "metadata": {},
     "output_type": "execute_result"
    }
   ],
   "source": [
    "y"
   ]
  },
  {
   "cell_type": "code",
   "execution_count": 8,
   "id": "960e2462-0d26-4635-b9bd-10f3e1eff554",
   "metadata": {},
   "outputs": [],
   "source": [
    "# calculating grad automatically\n",
    "y.backward()"
   ]
  },
  {
   "cell_type": "code",
   "execution_count": 9,
   "id": "6bbda762-3437-44f8-b8dd-528b746f6437",
   "metadata": {},
   "outputs": [
    {
     "data": {
      "text/plain": [
       "tensor(60.)"
      ]
     },
     "execution_count": 9,
     "metadata": {},
     "output_type": "execute_result"
    }
   ],
   "source": [
    "x.grad"
   ]
  },
  {
   "cell_type": "code",
   "execution_count": 12,
   "id": "4ba95062-bb12-4daf-91a0-4c87f31af682",
   "metadata": {},
   "outputs": [],
   "source": [
    "m = t.tensor(20.0,requires_grad=True)"
   ]
  },
  {
   "cell_type": "code",
   "execution_count": 14,
   "id": "5c963f93-9a13-431a-92c6-2b599cc81ce4",
   "metadata": {},
   "outputs": [],
   "source": [
    "a = t.tensor(10.0)\n",
    "b = t.tensor(2.0)\n",
    "c = 3*a\n",
    "d = 2*b\n",
    "y = c*d\n",
    "z = y+m"
   ]
  },
  {
   "cell_type": "code",
   "execution_count": 15,
   "id": "7f74bfd7-86ce-45f2-ad5a-73c67301a9ae",
   "metadata": {},
   "outputs": [],
   "source": [
    "z.backward()"
   ]
  },
  {
   "cell_type": "code",
   "execution_count": 16,
   "id": "eef02599-7aa7-41c0-8615-fa9b6fa42d59",
   "metadata": {},
   "outputs": [
    {
     "data": {
      "text/plain": [
       "tensor(1.)"
      ]
     },
     "execution_count": 16,
     "metadata": {},
     "output_type": "execute_result"
    }
   ],
   "source": [
    "m.grad"
   ]
  },
  {
   "cell_type": "markdown",
   "id": "a8f5ac15-97b9-4aa9-8dd9-d5d827626faa",
   "metadata": {},
   "source": [
    "here is finding gradient manually "
   ]
  },
  {
   "cell_type": "code",
   "execution_count": 18,
   "id": "12696f8d-6d9e-453a-9e62-86b7c676e360",
   "metadata": {},
   "outputs": [],
   "source": [
    "import torch\n",
    "\n",
    "# Inputs\n",
    "x = torch.tensor(6.7)  # Input feature\n",
    "y = torch.tensor(0.0)  # True label (binary)\n",
    "\n",
    "w = torch.tensor(1.0)  # Weight\n",
    "b = torch.tensor(0.0)  # Bias"
   ]
  },
  {
   "cell_type": "code",
   "execution_count": 19,
   "id": "ccb47795-fade-4e0b-a7fd-05fd98613c28",
   "metadata": {},
   "outputs": [],
   "source": [
    "# Binary Cross-Entropy Loss for scalar\n",
    "def binary_cross_entropy_loss(prediction, target):\n",
    "    epsilon = 1e-8  # To prevent log(0)\n",
    "    prediction = torch.clamp(prediction, epsilon, 1 - epsilon)\n",
    "    return -(target * torch.log(prediction) + (1 - target) * torch.log(1 - prediction))\n"
   ]
  },
  {
   "cell_type": "code",
   "execution_count": 20,
   "id": "8dfd1b15-f557-42c0-b7ef-5e19cdbf7539",
   "metadata": {},
   "outputs": [],
   "source": [
    "# Forward pass\n",
    "z = w * x + b  # Weighted sum (linear part)\n",
    "y_pred = torch.sigmoid(z)  # Predicted probability\n",
    "\n",
    "# Compute binary cross-entropy loss\n",
    "loss = binary_cross_entropy_loss(y_pred, y)"
   ]
  },
  {
   "cell_type": "code",
   "execution_count": 21,
   "id": "98c29576-c011-4c0c-966b-05cbf61c2ed8",
   "metadata": {},
   "outputs": [],
   "source": [
    "# Derivatives:\n",
    "# 1. dL/d(y_pred): Loss with respect to the prediction (y_pred)\n",
    "dloss_dy_pred = (y_pred - y)/(y_pred*(1-y_pred))\n",
    "\n",
    "# 2. dy_pred/dz: Prediction (y_pred) with respect to z (sigmoid derivative)\n",
    "dy_pred_dz = y_pred * (1 - y_pred)\n",
    "\n",
    "# 3. dz/dw and dz/db: z with respect to w and b\n",
    "dz_dw = x  # dz/dw = x\n",
    "dz_db = 1  # dz/db = 1 (bias contributes directly to z)\n",
    "\n",
    "dL_dw = dloss_dy_pred * dy_pred_dz * dz_dw\n",
    "dL_db = dloss_dy_pred * dy_pred_dz * dz_db"
   ]
  },
  {
   "cell_type": "code",
   "execution_count": 22,
   "id": "576f0b61-35ee-4909-952f-427e018b1772",
   "metadata": {},
   "outputs": [
    {
     "name": "stdout",
     "output_type": "stream",
     "text": [
      "Manual Gradient of loss w.r.t weight (dw): 6.691762447357178\n",
      "Manual Gradient of loss w.r.t bias (db): 0.998770534992218\n"
     ]
    }
   ],
   "source": [
    "print(f\"Manual Gradient of loss w.r.t weight (dw): {dL_dw}\")\n",
    "print(f\"Manual Gradient of loss w.r.t bias (db): {dL_db}\")"
   ]
  },
  {
   "cell_type": "markdown",
   "id": "f7feb184-5e93-4b61-b780-c17df9f119fc",
   "metadata": {},
   "source": [
    "here is using autograd"
   ]
  },
  {
   "cell_type": "code",
   "execution_count": 23,
   "id": "4625da83-40db-4434-af97-cd25696bbb3b",
   "metadata": {},
   "outputs": [],
   "source": [
    "x = torch.tensor(6.7)\n",
    "y = torch.tensor(0.0)"
   ]
  },
  {
   "cell_type": "code",
   "execution_count": 24,
   "id": "9f0549bf-4e10-4b15-a9c9-e78c54976495",
   "metadata": {},
   "outputs": [],
   "source": [
    "w = torch.tensor(1.0, requires_grad=True)\n",
    "b = torch.tensor(0.0, requires_grad=True)"
   ]
  },
  {
   "cell_type": "code",
   "execution_count": 25,
   "id": "2ed52a5c-bd58-4dbf-9997-89afe1beaacd",
   "metadata": {},
   "outputs": [
    {
     "data": {
      "text/plain": [
       "tensor(6.7000, grad_fn=<AddBackward0>)"
      ]
     },
     "execution_count": 25,
     "metadata": {},
     "output_type": "execute_result"
    }
   ],
   "source": [
    "z = w*x + b\n",
    "z"
   ]
  },
  {
   "cell_type": "code",
   "execution_count": 26,
   "id": "ee7385d6-873f-4592-a85a-d12f4b5b0536",
   "metadata": {},
   "outputs": [
    {
     "data": {
      "text/plain": [
       "tensor(0.9988, grad_fn=<SigmoidBackward0>)"
      ]
     },
     "execution_count": 26,
     "metadata": {},
     "output_type": "execute_result"
    }
   ],
   "source": [
    "y_pred = torch.sigmoid(z)\n",
    "y_pred"
   ]
  },
  {
   "cell_type": "code",
   "execution_count": 27,
   "id": "1cd23b01-021e-4975-b39a-5787dbfc8bd7",
   "metadata": {},
   "outputs": [
    {
     "data": {
      "text/plain": [
       "tensor(6.7012, grad_fn=<NegBackward0>)"
      ]
     },
     "execution_count": 27,
     "metadata": {},
     "output_type": "execute_result"
    }
   ],
   "source": [
    "loss = binary_cross_entropy_loss(y_pred, y)\n",
    "loss"
   ]
  },
  {
   "cell_type": "code",
   "execution_count": 28,
   "id": "41a12906-c448-48b5-8eb7-741d45837a63",
   "metadata": {},
   "outputs": [],
   "source": [
    "loss.backward()"
   ]
  },
  {
   "cell_type": "code",
   "execution_count": 29,
   "id": "6c7d1e37-e27a-497e-bd7c-c226859989d9",
   "metadata": {},
   "outputs": [
    {
     "name": "stdout",
     "output_type": "stream",
     "text": [
      "tensor(6.6918)\n",
      "tensor(0.9988)\n"
     ]
    }
   ],
   "source": [
    "print(w.grad)\n",
    "print(b.grad)"
   ]
  },
  {
   "cell_type": "markdown",
   "id": "de2c7417-6dde-41fc-977b-dda45bca6c2f",
   "metadata": {},
   "source": [
    "till now i have worked with scaler but \n",
    "with vector and matrixes it is same"
   ]
  },
  {
   "cell_type": "code",
   "execution_count": 32,
   "id": "c6392748-216b-4aaa-b29e-8387eccabeb5",
   "metadata": {},
   "outputs": [],
   "source": [
    "x = t.tensor([1.0,2.0,3.0,4.0],requires_grad=True)"
   ]
  },
  {
   "cell_type": "code",
   "execution_count": 37,
   "id": "42f69329-9054-49ba-b519-0dff9231f401",
   "metadata": {},
   "outputs": [],
   "source": [
    "y = (x**2).mean()"
   ]
  },
  {
   "cell_type": "code",
   "execution_count": 38,
   "id": "052836c3-8570-4180-9666-e97d0fbaea6e",
   "metadata": {},
   "outputs": [
    {
     "data": {
      "text/plain": [
       "tensor(7.5000, grad_fn=<MeanBackward0>)"
      ]
     },
     "execution_count": 38,
     "metadata": {},
     "output_type": "execute_result"
    }
   ],
   "source": [
    "y"
   ]
  },
  {
   "cell_type": "code",
   "execution_count": 39,
   "id": "f8b63962-5dbd-4cfb-bc60-e801f0543233",
   "metadata": {},
   "outputs": [],
   "source": [
    "y.backward()"
   ]
  },
  {
   "cell_type": "code",
   "execution_count": 43,
   "id": "d44abc2c-341c-4d8b-b7aa-9b040509c009",
   "metadata": {},
   "outputs": [
    {
     "data": {
      "text/plain": [
       "tensor([0.5000, 1.0000, 1.5000, 2.0000])"
      ]
     },
     "execution_count": 43,
     "metadata": {},
     "output_type": "execute_result"
    }
   ],
   "source": [
    "x.grad #so it found gradient for each input of x(or here x1,x2,x3,x4 are different variables)"
   ]
  },
  {
   "cell_type": "code",
   "execution_count": null,
   "id": "e3699b21-30ed-45b9-9a93-1b1d6714965d",
   "metadata": {},
   "outputs": [],
   "source": []
  }
 ],
 "metadata": {
  "kernelspec": {
   "display_name": "Python 3 (ipykernel)",
   "language": "python",
   "name": "python3"
  },
  "language_info": {
   "codemirror_mode": {
    "name": "ipython",
    "version": 3
   },
   "file_extension": ".py",
   "mimetype": "text/x-python",
   "name": "python",
   "nbconvert_exporter": "python",
   "pygments_lexer": "ipython3",
   "version": "3.12.3"
  }
 },
 "nbformat": 4,
 "nbformat_minor": 5
}
