{
 "cells": [
  {
   "cell_type": "code",
   "execution_count": 1,
   "id": "285ccdb2-bbf2-4695-a353-7a6e5467af7f",
   "metadata": {},
   "outputs": [],
   "source": [
    "import torch as t\n",
    "import numpy as np\n",
    "import pandas as pd\n",
    "from sklearn.model_selection import train_test_split\n",
    "from sklearn.preprocessing import StandardScaler\n",
    "from sklearn.preprocessing import LabelEncoder\n",
    "import torch.nn as nn\n",
    "import torch.optim as optim\n",
    "from torch.utils.data import Dataset, DataLoader\n"
   ]
  },
  {
   "cell_type": "code",
   "execution_count": 2,
   "id": "8554deff-d7b8-46a7-8ea1-b77d3cf32ca5",
   "metadata": {},
   "outputs": [],
   "source": [
    "class CustomDataset(Dataset):\n",
    "    def __init__(self,feature,label):\n",
    "        self.features = feature\n",
    "        self.labels = label\n",
    "    def __len__(self):\n",
    "        return self.features.shape[0]\n",
    "    def __getitem__(self,index):\n",
    "        return self.features[index],self.labels[index]"
   ]
  },
  {
   "cell_type": "code",
   "execution_count": 3,
   "id": "66666d04-e782-4d97-a6b0-ae4b2ee31d0d",
   "metadata": {},
   "outputs": [],
   "source": [
    "df = pd.read_csv('https://raw.githubusercontent.com/gscdit/Breast-Cancer-Detection/refs/heads/master/data.csv')\n",
    "df = df.head(10)"
   ]
  },
  {
   "cell_type": "code",
   "execution_count": 4,
   "id": "b7ae8730-e372-4e00-8130-81707c04c32f",
   "metadata": {},
   "outputs": [],
   "source": [
    "df.drop(columns=['id','Unnamed: 32'],inplace=True)"
   ]
  },
  {
   "cell_type": "code",
   "execution_count": 5,
   "id": "8933f5a5-8b6e-4c18-ab32-c1ffd9ea963a",
   "metadata": {},
   "outputs": [],
   "source": [
    "X_train,X_test,y_train,y_test = train_test_split(df.iloc[:,1:],df.iloc[:,0],test_size=0.2)"
   ]
  },
  {
   "cell_type": "code",
   "execution_count": 6,
   "id": "b7d65654-a9ef-4e61-8250-82548fdbdcea",
   "metadata": {},
   "outputs": [],
   "source": [
    "scaler = StandardScaler()\n",
    "x_train = scaler.fit_transform(X_train)\n",
    "x_test = scaler.transform(X_test)"
   ]
  },
  {
   "cell_type": "code",
   "execution_count": 7,
   "id": "5c00510b-fcaa-45c2-9b76-c5bd39ea0709",
   "metadata": {},
   "outputs": [],
   "source": [
    "encoder = LabelEncoder()\n",
    "y_train = encoder.fit_transform(y_train)\n",
    "y_test = encoder .transform(y_test)"
   ]
  },
  {
   "cell_type": "code",
   "execution_count": 8,
   "id": "7219a9a1-3a06-49bb-9a5e-de4720049437",
   "metadata": {},
   "outputs": [],
   "source": [
    "x_train_tensor = t.from_numpy(x_train).float()\n",
    "x_test_tensor = t.from_numpy(x_test).float()\n",
    "y_train_tensor = t.from_numpy(y_train).float()\n",
    "y_test_tensor = t.from_numpy(y_test).float()"
   ]
  },
  {
   "cell_type": "code",
   "execution_count": 9,
   "id": "8fd665a0-3f45-4f2d-8d45-3f6ae8ff6f75",
   "metadata": {},
   "outputs": [],
   "source": [
    "# defining the model\n",
    "class MySimpleNN(nn.Module):\n",
    "    def __init__(self,num_feature):\n",
    "        super().__init__()\n",
    "        self.linear = nn.Linear(num_feature,1)\n",
    "        self.sigmoid = nn.Sigmoid()\n",
    "    def forward(self,X):\n",
    "        out = self.linear(X)\n",
    "        out = self.sigmoid(out)\n",
    "        return out\n",
    "   "
   ]
  },
  {
   "cell_type": "code",
   "execution_count": 10,
   "id": "e580bce6-7ed4-46b5-9b3e-da4f7c2cd48f",
   "metadata": {},
   "outputs": [],
   "source": [
    "loss = nn.BCELoss()\n",
    "# parameter\n",
    "learning_rate = 0.1\n",
    "epochs = 10\n",
    "model = MySimpleNN(x_train_tensor.shape[1])\n",
    "\n",
    "optimizer = optim.SGD(model.parameters(), lr=0.01)  # SGD with learning rate 0.01\n"
   ]
  },
  {
   "cell_type": "code",
   "execution_count": 11,
   "id": "eff4fb06-87d8-44db-941f-645701b32b39",
   "metadata": {},
   "outputs": [],
   "source": [
    "# x_train_tensor.shape,y_train_tensor.reshape(455,1).shape\n",
    "dataset = CustomDataset(x_train_tensor, y_train_tensor)\n"
   ]
  },
  {
   "cell_type": "code",
   "execution_count": 12,
   "id": "e57ec0e5-6819-49bf-98e4-8b9264f99e3c",
   "metadata": {},
   "outputs": [],
   "source": [
    "dataloader = DataLoader(dataset, batch_size=8, shuffle=True)\n"
   ]
  },
  {
   "cell_type": "code",
   "execution_count": 14,
   "id": "f613216a-fb14-40ae-a3ad-b0406a83ba42",
   "metadata": {},
   "outputs": [
    {
     "name": "stdout",
     "output_type": "stream",
     "text": [
      "[tensor([[ 0.8368,  1.0205,  0.8352,  0.8164, -0.1432, -0.1759,  0.3397,  1.1157,\n",
      "         -0.1037, -0.7413,  0.5424, -0.6546,  0.1339,  0.5619, -0.5589,  0.2751,\n",
      "         -0.0146,  1.4820, -0.1203, -0.3080,  0.6731,  0.4613,  0.4567,  0.6146,\n",
      "         -0.5463, -0.0576, -0.0528,  0.9316, -0.1289, -0.7090],\n",
      "        [-0.8924,  0.9037, -0.9466, -0.9465,  0.3876, -0.1093, -1.1343, -1.2775,\n",
      "          0.3524,  0.3381, -0.1879,  2.1328, -0.2622, -0.5320,  0.6521, -0.2424,\n",
      "         -0.9266, -0.2806, -0.6528,  0.1307, -0.9379,  1.0929, -0.9897, -0.9206,\n",
      "          0.2798, -0.3100, -1.1650, -1.1922, -0.4581,  0.2211],\n",
      "        [ 1.0103, -0.9003,  1.0635,  1.0815, -0.6740, -0.5686,  0.3482,  0.2857,\n",
      "         -1.0374, -0.8276,  0.5946, -0.6810,  0.5974,  0.5724,  1.8768, -0.5433,\n",
      "          1.2449,  0.9821, -0.4646, -0.0243,  0.4182, -1.6827,  0.4463,  0.3613,\n",
      "         -0.8217, -1.0418, -0.3598, -1.0245, -1.1150, -1.0740],\n",
      "        [-1.5546,  0.7787, -1.5116, -1.4874,  1.7346,  1.6208,  0.9648,  0.3173,\n",
      "          1.7924,  2.0426, -0.5838,  1.0889, -0.4855, -1.1347,  0.7912,  2.1038,\n",
      "          1.2266,  0.9301,  2.4676,  2.1105, -1.4700,  0.6960, -1.3947, -1.5432,\n",
      "          2.0264,  1.9235,  1.3878,  1.2839,  2.2595,  2.1779],\n",
      "        [-1.2568, -0.5222, -1.2882, -1.2307,  0.8956, -0.0296, -0.2230, -0.5376,\n",
      "         -0.0391,  0.4585, -1.3096, -0.1666, -1.1528, -1.1357,  0.0614, -0.0750,\n",
      "         -0.1232, -1.1793, -0.1796, -0.0415, -1.3314,  0.0306, -1.2383, -1.2144,\n",
      "          0.8187,  0.3926,  0.4656, -0.7426,  0.1648,  0.5354],\n",
      "        [ 0.3452, -2.0010,  0.5129,  0.2467,  0.3591,  1.5296,  1.7989,  1.7909,\n",
      "          1.1532,  0.6503,  2.1164, -0.0953,  2.3096,  2.0699, -0.4454,  0.7508,\n",
      "          1.0312,  0.1210,  0.4045,  0.5380,  1.1211, -1.5230,  1.5648,  1.2007,\n",
      "          0.1539,  1.0235,  1.5401,  1.4759,  0.6512,  0.3495],\n",
      "        [ 0.4204,  0.6675,  0.3696,  0.3567, -0.9976, -0.9135, -0.8638, -0.7799,\n",
      "         -1.0913, -0.9324, -0.8041, -0.7193, -0.6295, -0.4570, -1.3964, -1.1149,\n",
      "         -1.0854, -1.4625, -0.7344, -1.5556,  0.5024,  0.9767,  0.4808,  0.4199,\n",
      "         -0.5542, -0.8059, -0.4913, -0.2785, -0.5631, -0.8408],\n",
      "        [ 1.0912,  0.0532,  0.9651,  1.1633, -1.5621, -1.3534, -1.2304, -0.9146,\n",
      "         -1.0266, -0.9881, -0.3680, -0.9049, -0.5110,  0.0552, -0.9808, -1.1541,\n",
      "         -1.3528, -0.5927, -0.7204, -0.8499,  1.0245, -0.0517,  0.6741,  1.0816,\n",
      "         -1.3567, -1.1243, -1.3246, -0.4535, -0.8103, -0.6603]]), tensor([0., 0., 0., 0., 0., 0., 0., 0.])]\n"
     ]
    }
   ],
   "source": [
    "for i in dataloader:\n",
    "    print(i)\n",
    "    break"
   ]
  },
  {
   "cell_type": "code",
   "execution_count": 77,
   "id": "c4217875-47c6-4851-822f-89eb763e5ed0",
   "metadata": {},
   "outputs": [
    {
     "name": "stdout",
     "output_type": "stream",
     "text": [
      "tensor(0.7193, grad_fn=<BinaryCrossEntropyBackward0>)\n",
      "tensor(0.7157, grad_fn=<BinaryCrossEntropyBackward0>)\n",
      "tensor(0.7122, grad_fn=<BinaryCrossEntropyBackward0>)\n",
      "tensor(0.7087, grad_fn=<BinaryCrossEntropyBackward0>)\n",
      "tensor(0.7053, grad_fn=<BinaryCrossEntropyBackward0>)\n",
      "tensor(0.7019, grad_fn=<BinaryCrossEntropyBackward0>)\n",
      "tensor(0.6986, grad_fn=<BinaryCrossEntropyBackward0>)\n",
      "tensor(0.6953, grad_fn=<BinaryCrossEntropyBackward0>)\n",
      "tensor(0.6920, grad_fn=<BinaryCrossEntropyBackward0>)\n",
      "tensor(0.6888, grad_fn=<BinaryCrossEntropyBackward0>)\n"
     ]
    }
   ],
   "source": [
    "# define loop\n",
    "for epoch in range(epochs):\n",
    "    for x,y in dataloader:\n",
    "        y_pred = model.forward(x)\n",
    "    \n",
    "        los = loss(y_pred,y.reshape(-1,1))\n",
    "        \n",
    "        optimizer.zero_grad()\n",
    "        \n",
    "        los.backward()\n",
    "        \n",
    "        optimizer.step()\n",
    "        \n",
    "        print(los)"
   ]
  },
  {
   "cell_type": "code",
   "execution_count": null,
   "id": "3f232aa3-88bd-44f8-8d59-98db8a862a08",
   "metadata": {},
   "outputs": [],
   "source": []
  },
  {
   "cell_type": "code",
   "execution_count": null,
   "id": "1e7249e0-a609-4603-a947-cc271af762be",
   "metadata": {},
   "outputs": [],
   "source": []
  },
  {
   "cell_type": "code",
   "execution_count": null,
   "id": "69f5ce43-0089-41c0-be59-cbca40c39b80",
   "metadata": {},
   "outputs": [],
   "source": []
  }
 ],
 "metadata": {
  "kernelspec": {
   "display_name": "Python 3 (ipykernel)",
   "language": "python",
   "name": "python3"
  },
  "language_info": {
   "codemirror_mode": {
    "name": "ipython",
    "version": 3
   },
   "file_extension": ".py",
   "mimetype": "text/x-python",
   "name": "python",
   "nbconvert_exporter": "python",
   "pygments_lexer": "ipython3",
   "version": "3.12.3"
  }
 },
 "nbformat": 4,
 "nbformat_minor": 5
}
