{
 "cells": [
  {
   "cell_type": "code",
   "execution_count": 22,
   "id": "285ccdb2-bbf2-4695-a353-7a6e5467af7f",
   "metadata": {},
   "outputs": [],
   "source": [
    "import torch as t\n",
    "import numpy as np\n",
    "import pandas as pd\n",
    "from sklearn.model_selection import train_test_split\n",
    "from sklearn.preprocessing import StandardScaler\n",
    "from sklearn.preprocessing import LabelEncoder\n",
    "import torch.nn as nn\n",
    "import torch.optim as optim\n",
    "from torch.utils.data import Dataset, DataLoader\n"
   ]
  },
  {
   "cell_type": "code",
   "execution_count": 23,
   "id": "8554deff-d7b8-46a7-8ea1-b77d3cf32ca5",
   "metadata": {},
   "outputs": [],
   "source": [
    "class CustomDataset(Dataset):\n",
    "    def __init__(self,feature,label):\n",
    "        self.features = feature\n",
    "        self.labels = label\n",
    "    def __len__(self):\n",
    "        return self.features.shape[0]\n",
    "    def __getitem__(self,index):\n",
    "        return self.features[index],self.labels[index]"
   ]
  },
  {
   "cell_type": "code",
   "execution_count": 67,
   "id": "66666d04-e782-4d97-a6b0-ae4b2ee31d0d",
   "metadata": {},
   "outputs": [],
   "source": [
    "df = pd.read_csv('https://raw.githubusercontent.com/gscdit/Breast-Cancer-Detection/refs/heads/master/data.csv')\n",
    "df = df.head(10)"
   ]
  },
  {
   "cell_type": "code",
   "execution_count": 68,
   "id": "b7ae8730-e372-4e00-8130-81707c04c32f",
   "metadata": {},
   "outputs": [],
   "source": [
    "df.drop(columns=['id','Unnamed: 32'],inplace=True)"
   ]
  },
  {
   "cell_type": "code",
   "execution_count": 69,
   "id": "8933f5a5-8b6e-4c18-ab32-c1ffd9ea963a",
   "metadata": {},
   "outputs": [],
   "source": [
    "X_train,X_test,y_train,y_test = train_test_split(df.iloc[:,1:],df.iloc[:,0],test_size=0.2)"
   ]
  },
  {
   "cell_type": "code",
   "execution_count": 70,
   "id": "b7d65654-a9ef-4e61-8250-82548fdbdcea",
   "metadata": {},
   "outputs": [],
   "source": [
    "scaler = StandardScaler()\n",
    "x_train = scaler.fit_transform(X_train)\n",
    "x_test = scaler.transform(X_test)"
   ]
  },
  {
   "cell_type": "code",
   "execution_count": 71,
   "id": "5c00510b-fcaa-45c2-9b76-c5bd39ea0709",
   "metadata": {},
   "outputs": [],
   "source": [
    "encoder = LabelEncoder()\n",
    "y_train = encoder.fit_transform(y_train)\n",
    "y_test = encoder .transform(y_test)"
   ]
  },
  {
   "cell_type": "code",
   "execution_count": 72,
   "id": "7219a9a1-3a06-49bb-9a5e-de4720049437",
   "metadata": {},
   "outputs": [],
   "source": [
    "x_train_tensor = t.from_numpy(x_train).float()\n",
    "x_test_tensor = t.from_numpy(x_test).float()\n",
    "y_train_tensor = t.from_numpy(y_train).float()\n",
    "y_test_tensor = t.from_numpy(y_test).float()"
   ]
  },
  {
   "cell_type": "code",
   "execution_count": 73,
   "id": "8fd665a0-3f45-4f2d-8d45-3f6ae8ff6f75",
   "metadata": {},
   "outputs": [],
   "source": [
    "# defining the model\n",
    "class MySimpleNN(nn.Module):\n",
    "    def __init__(self,num_feature):\n",
    "        super().__init__()\n",
    "        self.linear = nn.Linear(num_feature,1)\n",
    "        self.sigmoid = nn.Sigmoid()\n",
    "    def forward(self,X):\n",
    "        out = self.linear(X)\n",
    "        out = self.sigmoid(out)\n",
    "        return out\n",
    "   "
   ]
  },
  {
   "cell_type": "code",
   "execution_count": 74,
   "id": "e580bce6-7ed4-46b5-9b3e-da4f7c2cd48f",
   "metadata": {},
   "outputs": [],
   "source": [
    "loss = nn.BCELoss()\n",
    "# parameter\n",
    "learning_rate = 0.1\n",
    "epochs = 10\n",
    "model = MySimpleNN(x_train_tensor.shape[1])\n",
    "\n",
    "optimizer = optim.SGD(model.parameters(), lr=0.01)  # SGD with learning rate 0.01\n"
   ]
  },
  {
   "cell_type": "code",
   "execution_count": 75,
   "id": "eff4fb06-87d8-44db-941f-645701b32b39",
   "metadata": {},
   "outputs": [],
   "source": [
    "# x_train_tensor.shape,y_train_tensor.reshape(455,1).shape\n",
    "dataset = CustomDataset(x_train_tensor, y_train_tensor)\n"
   ]
  },
  {
   "cell_type": "code",
   "execution_count": 76,
   "id": "e57ec0e5-6819-49bf-98e4-8b9264f99e3c",
   "metadata": {},
   "outputs": [],
   "source": [
    "dataloader = DataLoader(dataset, batch_size=8, shuffle=True)\n"
   ]
  },
  {
   "cell_type": "code",
   "execution_count": 77,
   "id": "c4217875-47c6-4851-822f-89eb763e5ed0",
   "metadata": {},
   "outputs": [
    {
     "name": "stdout",
     "output_type": "stream",
     "text": [
      "tensor(0.7193, grad_fn=<BinaryCrossEntropyBackward0>)\n",
      "tensor(0.7157, grad_fn=<BinaryCrossEntropyBackward0>)\n",
      "tensor(0.7122, grad_fn=<BinaryCrossEntropyBackward0>)\n",
      "tensor(0.7087, grad_fn=<BinaryCrossEntropyBackward0>)\n",
      "tensor(0.7053, grad_fn=<BinaryCrossEntropyBackward0>)\n",
      "tensor(0.7019, grad_fn=<BinaryCrossEntropyBackward0>)\n",
      "tensor(0.6986, grad_fn=<BinaryCrossEntropyBackward0>)\n",
      "tensor(0.6953, grad_fn=<BinaryCrossEntropyBackward0>)\n",
      "tensor(0.6920, grad_fn=<BinaryCrossEntropyBackward0>)\n",
      "tensor(0.6888, grad_fn=<BinaryCrossEntropyBackward0>)\n"
     ]
    }
   ],
   "source": [
    "# define loop\n",
    "for epoch in range(epochs):\n",
    "    for x,y in dataloader:\n",
    "        y_pred = model.forward(x)\n",
    "    \n",
    "        los = loss(y_pred,y.reshape(-1,1))\n",
    "        \n",
    "        optimizer.zero_grad()\n",
    "        \n",
    "        los.backward()\n",
    "        \n",
    "        optimizer.step()\n",
    "        \n",
    "        print(los)"
   ]
  },
  {
   "cell_type": "code",
   "execution_count": null,
   "id": "3f232aa3-88bd-44f8-8d59-98db8a862a08",
   "metadata": {},
   "outputs": [],
   "source": []
  },
  {
   "cell_type": "code",
   "execution_count": null,
   "id": "1e7249e0-a609-4603-a947-cc271af762be",
   "metadata": {},
   "outputs": [],
   "source": []
  },
  {
   "cell_type": "code",
   "execution_count": null,
   "id": "69f5ce43-0089-41c0-be59-cbca40c39b80",
   "metadata": {},
   "outputs": [],
   "source": []
  }
 ],
 "metadata": {
  "kernelspec": {
   "display_name": "Python 3 (ipykernel)",
   "language": "python",
   "name": "python3"
  },
  "language_info": {
   "codemirror_mode": {
    "name": "ipython",
    "version": 3
   },
   "file_extension": ".py",
   "mimetype": "text/x-python",
   "name": "python",
   "nbconvert_exporter": "python",
   "pygments_lexer": "ipython3",
   "version": "3.12.3"
  }
 },
 "nbformat": 4,
 "nbformat_minor": 5
}
