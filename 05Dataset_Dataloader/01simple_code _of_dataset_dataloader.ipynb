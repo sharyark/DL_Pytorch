{
 "cells": [
  {
   "cell_type": "code",
   "execution_count": 5,
   "id": "c5003e03-9027-4864-a727-238349a4937e",
   "metadata": {},
   "outputs": [],
   "source": [
    "import torch\n",
    "from torch.utils.data import Dataset, DataLoader"
   ]
  },
  {
   "cell_type": "code",
   "execution_count": 16,
   "id": "26b43048-aa26-4a2c-8ebf-68c038d58dd3",
   "metadata": {},
   "outputs": [],
   "source": [
    "# Creating a dataset with 10 rows, 2 features, and 1 label (0 for 'off', 1 for 'on')\n",
    "data = torch.tensor([\n",
    "    [0.1, 0.5, 1],\n",
    "    [0.4, 0.2, 0],\n",
    "    [0.7, 0.8, 1],\n",
    "    [0.3, 0.6, 0],\n",
    "    [0.9, 0.1, 1],\n",
    "    [0.2, 0.3, 0],\n",
    "    [0.8, 0.7, 1],\n",
    "    [0.5, 0.4, 0],\n",
    "    [0.6, 0.9, 1],\n",
    "    [0.3, 0.2, 0]\n",
    "], dtype=torch.float32)\n",
    "\n",
    "# Splitting features and labels\n",
    "X = data[:, :2]  # First two columns are features\n",
    "y = data[:, 2]  # Last column is the label"
   ]
  },
  {
   "cell_type": "code",
   "execution_count": 25,
   "id": "bae52ca3-dea6-43cd-bd2c-971549bf801e",
   "metadata": {},
   "outputs": [],
   "source": [
    "class CustomDataset(Dataset):\n",
    "    def __init__(self,feature,label):\n",
    "        self.features = feature\n",
    "        self.labels = label\n",
    "    def __len__(self):\n",
    "        return self.features.shape[0]\n",
    "    def __getitem__(self,index):\n",
    "        return self.features[index],self.labels[index]"
   ]
  },
  {
   "cell_type": "code",
   "execution_count": 30,
   "id": "83c04fee-254e-47a5-ac2d-e1cded8759f4",
   "metadata": {},
   "outputs": [],
   "source": [
    "# Creating an instance of the dataset\n",
    "dataset = CustomDataset(X, y)"
   ]
  },
  {
   "cell_type": "code",
   "execution_count": 31,
   "id": "39b12df3-90ad-4713-9d46-e36f12a85b34",
   "metadata": {},
   "outputs": [
    {
     "data": {
      "text/plain": [
       "10"
      ]
     },
     "execution_count": 31,
     "metadata": {},
     "output_type": "execute_result"
    }
   ],
   "source": [
    "len(dataset)"
   ]
  },
  {
   "cell_type": "code",
   "execution_count": 32,
   "id": "56b95a97-c471-4f99-b270-583b473e78ef",
   "metadata": {},
   "outputs": [
    {
     "data": {
      "text/plain": [
       "(tensor([0.4000, 0.2000]), tensor(0.))"
      ]
     },
     "execution_count": 32,
     "metadata": {},
     "output_type": "execute_result"
    }
   ],
   "source": [
    "dataset[1]"
   ]
  },
  {
   "cell_type": "code",
   "execution_count": 34,
   "id": "5cfe06d4-fa21-4905-906d-352906f648d1",
   "metadata": {},
   "outputs": [],
   "source": [
    "dataloader = DataLoader(dataset, batch_size=2, shuffle=True)"
   ]
  },
  {
   "cell_type": "code",
   "execution_count": 35,
   "id": "f61fbc09-4dfe-4f51-bf67-baf5d7faf358",
   "metadata": {},
   "outputs": [
    {
     "name": "stdout",
     "output_type": "stream",
     "text": [
      "<torch.utils.data.dataloader.DataLoader object at 0x7d931bfc3500>\n"
     ]
    }
   ],
   "source": [
    "print(dataloader)"
   ]
  },
  {
   "cell_type": "code",
   "execution_count": 37,
   "id": "3ef5f3d1-37b2-48ef-ac97-2c7c56a56129",
   "metadata": {},
   "outputs": [
    {
     "name": "stdout",
     "output_type": "stream",
     "text": [
      "tensor([[0.8000, 0.7000],\n",
      "        [0.2000, 0.3000]])\n",
      "tensor([1., 0.])\n",
      "----------------------------------------\n",
      "tensor([[0.9000, 0.1000],\n",
      "        [0.3000, 0.2000]])\n",
      "tensor([1., 0.])\n",
      "----------------------------------------\n",
      "tensor([[0.1000, 0.5000],\n",
      "        [0.5000, 0.4000]])\n",
      "tensor([1., 0.])\n",
      "----------------------------------------\n",
      "tensor([[0.4000, 0.2000],\n",
      "        [0.3000, 0.6000]])\n",
      "tensor([0., 0.])\n",
      "----------------------------------------\n",
      "tensor([[0.6000, 0.9000],\n",
      "        [0.7000, 0.8000]])\n",
      "tensor([1., 1.])\n",
      "----------------------------------------\n"
     ]
    }
   ],
   "source": [
    "for i,j in dataloader:\n",
    "    print(i)\n",
    "    print(j)\n",
    "    print(\"--\"*20)"
   ]
  },
  {
   "cell_type": "code",
   "execution_count": null,
   "id": "14657cb1-f202-4ba7-8a89-1ed68a09d335",
   "metadata": {},
   "outputs": [],
   "source": []
  },
  {
   "cell_type": "code",
   "execution_count": null,
   "id": "31001f3f-733d-41cc-a158-0445364c99d8",
   "metadata": {},
   "outputs": [],
   "source": []
  },
  {
   "cell_type": "code",
   "execution_count": null,
   "id": "eb72147a-84e1-4a08-a81a-b1d2bb4e783e",
   "metadata": {},
   "outputs": [],
   "source": []
  }
 ],
 "metadata": {
  "kernelspec": {
   "display_name": "Python 3 (ipykernel)",
   "language": "python",
   "name": "python3"
  },
  "language_info": {
   "codemirror_mode": {
    "name": "ipython",
    "version": 3
   },
   "file_extension": ".py",
   "mimetype": "text/x-python",
   "name": "python",
   "nbconvert_exporter": "python",
   "pygments_lexer": "ipython3",
   "version": "3.12.3"
  }
 },
 "nbformat": 4,
 "nbformat_minor": 5
}
