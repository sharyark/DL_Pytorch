{
 "cells": [
  {
   "cell_type": "code",
   "execution_count": 2,
   "id": "08dbfddb-69d4-4c44-ab13-1bd851794a40",
   "metadata": {},
   "outputs": [],
   "source": [
    "import torch as t\n",
    "import pandas as pd\n",
    "import numpy as np\n",
    "from torch.utils.data import Dataset, DataLoader\n",
    "from sklearn.model_selection import train_test_split\n",
    "from torch import nn, optim\n",
    "import matplotlib.pyplot as plt\n"
   ]
  },
  {
   "cell_type": "code",
   "execution_count": 5,
   "id": "1797f9bf-c358-404a-a30b-dd49ee2aaa1e",
   "metadata": {},
   "outputs": [],
   "source": [
    "df = pd.read_csv('../06ANN_module/fashion-mnist_test.csv')\n",
    "x = df.iloc[:,1:]\n",
    "y = df.iloc[:,0]\n",
    "# df.head()"
   ]
  },
  {
   "cell_type": "code",
   "execution_count": 6,
   "id": "a6884d55-e5ef-4c63-9e71-1d0533d6ea15",
   "metadata": {},
   "outputs": [
    {
     "name": "stdout",
     "output_type": "stream",
     "text": [
      "\n",
      "\n",
      "\n",
      "\n",
      "\n"
     ]
    },
    {
     "data": {
      "image/png": "[encoded data removed]",
      "text/plain": [
       "<Figure size 1000x400 with 5 Axes>"
      ]
     },
     "metadata": {},
     "output_type": "display_data"
    }
   ],
   "source": [
    "# Extract first four rows, excluding the label column (skip the first column)\n",
    "number_of_pic = 5\n",
    "first_three = df.iloc[:number_of_pic, 1:]\n",
    "\n",
    "# Extract labels (first column of df)\n",
    "labels = df.iloc[:number_of_pic, 0].values  # Extract labels\n",
    "\n",
    "# Reshape the pixel values of the first four images (each image is 28x28)\n",
    "images = first_three.values.reshape(number_of_pic, 28, 28)\n",
    "\n",
    "# Plot the first four images\n",
    "fig, axes = plt.subplots(1, number_of_pic, figsize=(10, 4))\n",
    "for i in range(number_of_pic):\n",
    "    axes[i].imshow(images[i], cmap=\"gray\")  # Display as grayscale\n",
    "    axes[i].set_title(f\"Label: {labels[i]}\")  # Show the label as title\n",
    "    axes[i].axis(\"off\")  # Remove axis for cleaner look\n",
    "    print()\n",
    "plt.tight_layout()\n",
    "plt.show()\n",
    "\n"
   ]
  },
  {
   "cell_type": "code",
   "execution_count": 7,
   "id": "42c9116d-7e04-4f8e-9a2b-8b7f6c133c59",
   "metadata": {},
   "outputs": [
    {
     "data": {
      "text/plain": [
       "(8000, 784)"
      ]
     },
     "execution_count": 7,
     "metadata": {},
     "output_type": "execute_result"
    }
   ],
   "source": [
    "x_train, x_test, y_train, y_test = train_test_split(x, y, test_size=0.2, random_state=42)\n",
    "\n",
    "# scaling\n",
    "x_train = x_train/255.0\n",
    "x_test = x_test/255.0\n",
    "x_train.shape"
   ]
  },
  {
   "cell_type": "code",
   "execution_count": 8,
   "id": "dda10c19-16f3-44b1-8ca2-68cfabace30b",
   "metadata": {},
   "outputs": [],
   "source": [
    "\n",
    "class CustomDataset(Dataset):\n",
    "    def __init__(self, features, labels):\n",
    "        # Convert DataFrame to NumPy array first and then to Tensor\n",
    "        self.features = t.tensor(features.values, dtype=t.float32).reshape(-1,1,28,28)  # Convert DataFrame to NumPy array\n",
    "        self.labels = t.tensor(labels.values, dtype=t.long)  # Convert DataFrame to NumPy array\n",
    "    \n",
    "    def __len__(self):\n",
    "        return len(self.features)\n",
    "    \n",
    "    def __getitem__(self, idx):\n",
    "        sample = self.features[idx]\n",
    "        label = self.labels[idx]\n",
    "        return sample, label"
   ]
  },
  {
   "cell_type": "code",
   "execution_count": 15,
   "id": "3c382770-1b60-44dd-b4bc-422287eb3fff",
   "metadata": {},
   "outputs": [],
   "source": [
    "myTrainData = CustomDataset(x_train,y_train)\n",
    "myTestData = CustomDataset(x_test,y_test)\n",
    "myTrainDat = DataLoader(myTrainData, batch_size=10, shuffle=True)\n",
    "myTrainDat = DataLoader(myTestData, batch_size=10, shuffle=False)"
   ]
  },
  {
   "cell_type": "code",
   "execution_count": 16,
   "id": "3dcc5dfb-5ff3-4cfc-ac0b-9577c684acd0",
   "metadata": {},
   "outputs": [],
   "source": [
    "class ANN(nn.Module):\n",
    "    def __init__(self, input_size):\n",
    "        super(ANN, self).__init__()\n",
    "        self.features = nn.sequential()\n",
    "        self.classifier = nn.sequential()\n",
    "    \n",
    "    def forward(self, x):\n",
    "        x = self.feature(x)\n",
    "        x = self.classifier(x)\n",
    "        return x"
   ]
  },
  {
   "cell_type": "code",
   "execution_count": 25,
   "id": "6daad3ed-63cd-4819-b66e-e891f7de01fd",
   "metadata": {},
   "outputs": [],
   "source": [
    "# Initialize Model, Loss, and Optimizer\n",
    "model = ANN(x_train.shape[1])\n",
    "criterion = nn.CrossEntropyLoss()\n",
    "optimizer = optim.Adam(model.parameters(), lr=0.01)\n"
   ]
  },
  {
   "cell_type": "code",
   "execution_count": 26,
   "id": "71e988ce-857e-434a-a61d-f109fbd6bc04",
   "metadata": {},
   "outputs": [
    {
     "name": "stdout",
     "output_type": "stream",
     "text": [
      "epoch 1 loss 2.1039993120729923\n",
      "epoch 2 loss 2.225074570029974\n",
      "epoch 3 loss 2.234501290470362\n",
      "epoch 4 loss 2.257737463861704\n",
      "epoch 5 loss 2.3143037101626396\n",
      "epoch 6 loss 2.3602753460407255\n",
      "epoch 7 loss 2.360275345146656\n",
      "epoch 8 loss 2.36027534365654\n",
      "epoch 9 loss 2.3602753466367723\n",
      "epoch 10 loss 2.360275345146656\n",
      "epoch 11 loss 2.3602753430604935\n",
      "epoch 12 loss 2.360275343954563\n",
      "epoch 13 loss 2.360275347530842\n",
      "epoch 14 loss 2.360275340229273\n",
      "epoch 15 loss 2.3602753496170044\n",
      "epoch 16 loss 2.3602753445506095\n",
      "epoch 17 loss 2.360275342911482\n",
      "epoch 18 loss 2.360275341719389\n",
      "epoch 19 loss 2.36027534276247\n",
      "epoch 20 loss 2.360275343954563\n"
     ]
    }
   ],
   "source": [
    "epochs = 20\n",
    "for epoch in range(epochs):\n",
    "    total_epoch_loss = 0\n",
    "    for batch_idx, (inputs, targets) in enumerate(myTrainDat):\n",
    "        # forward\n",
    "        outputs = model(inputs)\n",
    "        # loss\n",
    "        loss = criterion(outputs, targets)\n",
    "        # backward\n",
    "        optimizer.zero_grad()\n",
    "        loss.backward()\n",
    "        # parameter updating\n",
    "        optimizer.step()\n",
    "\n",
    "        total_epoch_loss = total_epoch_loss + loss.item() \n",
    "    print(f'epoch {epoch+1} loss {total_epoch_loss/len(myTrainDat)}')"
   ]
  },
  {
   "cell_type": "code",
   "execution_count": 27,
   "id": "8bb01367-f0c6-4034-9b96-50cd2a8dfafd",
   "metadata": {},
   "outputs": [
    {
     "name": "stdout",
     "output_type": "stream",
     "text": [
      "0.096\n"
     ]
    }
   ],
   "source": [
    "# evaluation code\n",
    "total = 0\n",
    "correct = 0\n",
    "\n",
    "with t.no_grad():\n",
    "\n",
    "  for batch_features, batch_labels in dataloader_test:\n",
    "\n",
    "    outputs = model(batch_features)\n",
    "\n",
    "    _, predicted = t.max(outputs, 1)\n",
    "\n",
    "    total = total + batch_labels.shape[0]\n",
    "\n",
    "    correct = correct + (predicted == batch_labels).sum().item()\n",
    "\n",
    "print(correct/total)\n"
   ]
  },
  {
   "cell_type": "code",
   "execution_count": null,
   "id": "e2d2625c-38da-4b83-a39e-0a74c3d967dd",
   "metadata": {},
   "outputs": [],
   "source": [
    "   "
   ]
  },
  {
   "cell_type": "code",
   "execution_count": null,
   "id": "2286677b-4a96-4a2f-b4d2-bcbb8c0084d6",
   "metadata": {},
   "outputs": [],
   "source": []
  },
  {
   "cell_type": "code",
   "execution_count": null,
   "id": "cfe2218a-d95d-4ed4-b57c-fb05cf78ceed",
   "metadata": {},
   "outputs": [],
   "source": []
  }
 ],
 "metadata": {
  "kernelspec": {
   "display_name": "Python 3 (ipykernel)",
   "language": "python",
   "name": "python3"
  },
  "language_info": {
   "codemirror_mode": {
    "name": "ipython",
    "version": 3
   },
   "file_extension": ".py",
   "mimetype": "text/x-python",
   "name": "python",
   "nbconvert_exporter": "python",
   "pygments_lexer": "ipython3",
   "version": "3.12.3"
  }
 },
 "nbformat": 4,
 "nbformat_minor": 5
}
