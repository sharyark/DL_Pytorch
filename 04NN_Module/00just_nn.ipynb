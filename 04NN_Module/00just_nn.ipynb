{
 "cells": [
  {
   "cell_type": "code",
   "execution_count": 1,
   "id": "9e2bbbcd-e301-42fa-8c2f-e127e93e8c98",
   "metadata": {},
   "outputs": [],
   "source": [
    "import numpy as np\n",
    "import torch as t\n",
    "import torch.nn as nn"
   ]
  },
  {
   "cell_type": "code",
   "execution_count": 2,
   "id": "a2c5f8d4-f223-481c-8f5a-a728b658990b",
   "metadata": {},
   "outputs": [],
   "source": [
    "class Model(nn.Module):\n",
    "    def __init__(self,num_features):\n",
    "        # super().__init_()\n",
    "        super().__init__() \n",
    "        self.linear = nn.Linear(num_features,1) # it tatke input and output how many in and then out\n",
    "        self.sigmoid = nn.Sigmoid()\n",
    "    def forward(self,features):\n",
    "        out = self.linear(features)\n",
    "        out = self.sigmoid(out)\n",
    "        return out"
   ]
  },
  {
   "cell_type": "code",
   "execution_count": 3,
   "id": "1762c71a-8e8e-4b4e-a56c-9563eb336b46",
   "metadata": {},
   "outputs": [
    {
     "data": {
      "text/plain": [
       "torch.Size([10, 5])"
      ]
     },
     "execution_count": 3,
     "metadata": {},
     "output_type": "execute_result"
    }
   ],
   "source": [
    "features = t.rand(10,5)\n",
    "features.shape"
   ]
  },
  {
   "cell_type": "code",
   "execution_count": 4,
   "id": "9029a4b0-9db2-41e7-a2b4-d5d9e53e08ce",
   "metadata": {},
   "outputs": [],
   "source": [
    "model = Model(features.shape[1])"
   ]
  },
  {
   "cell_type": "code",
   "execution_count": 5,
   "id": "56c0ee22-8526-4a2e-a744-8c1761e8caf7",
   "metadata": {},
   "outputs": [
    {
     "data": {
      "text/plain": [
       "tensor([[0.4133],\n",
       "        [0.3973],\n",
       "        [0.4477],\n",
       "        [0.3319],\n",
       "        [0.3855],\n",
       "        [0.4351],\n",
       "        [0.4059],\n",
       "        [0.4478],\n",
       "        [0.3584],\n",
       "        [0.3282]], grad_fn=<SigmoidBackward0>)"
      ]
     },
     "execution_count": 5,
     "metadata": {},
     "output_type": "execute_result"
    }
   ],
   "source": [
    "# model.farward(features) #basically we have to do like this but pytorch recomend object calling for forward pass \n",
    "# like this \n",
    "model(features)"
   ]
  },
  {
   "cell_type": "code",
   "execution_count": 6,
   "id": "f5d16a68-da73-4061-ad29-b8a9d582dd8c",
   "metadata": {},
   "outputs": [
    {
     "data": {
      "text/plain": [
       "Parameter containing:\n",
       "tensor([[ 0.2658, -0.0608, -0.1671, -0.3833,  0.2106]], requires_grad=True)"
      ]
     },
     "execution_count": 6,
     "metadata": {},
     "output_type": "execute_result"
    }
   ],
   "source": [
    "# finding weight\n",
    "model.linear.weight"
   ]
  },
  {
   "cell_type": "code",
   "execution_count": 7,
   "id": "adcfc17b-4e28-4372-a916-96617c70f74f",
   "metadata": {},
   "outputs": [
    {
     "data": {
      "text/plain": [
       "Parameter containing:\n",
       "tensor([-0.3324], requires_grad=True)"
      ]
     },
     "execution_count": 7,
     "metadata": {},
     "output_type": "execute_result"
    }
   ],
   "source": [
    "# or bias\n",
    "model.linear.bias"
   ]
  },
  {
   "cell_type": "code",
   "execution_count": 8,
   "id": "12c7b9d5-ce10-4831-b02c-4011a0315cda",
   "metadata": {},
   "outputs": [],
   "source": [
    "# here we can visualize somehow\n",
    "# !pip install torchinfo"
   ]
  },
  {
   "cell_type": "code",
   "execution_count": 9,
   "id": "2038fa8e-fb16-4832-a594-2156f3299076",
   "metadata": {},
   "outputs": [
    {
     "data": {
      "text/plain": [
       "==========================================================================================\n",
       "Layer (type:depth-idx)                   Output Shape              Param #\n",
       "==========================================================================================\n",
       "Model                                    [10, 1]                   --\n",
       "├─Linear: 1-1                            [10, 1]                   6\n",
       "├─Sigmoid: 1-2                           [10, 1]                   --\n",
       "==========================================================================================\n",
       "Total params: 6\n",
       "Trainable params: 6\n",
       "Non-trainable params: 0\n",
       "Total mult-adds (Units.MEGABYTES): 0.00\n",
       "==========================================================================================\n",
       "Input size (MB): 0.00\n",
       "Forward/backward pass size (MB): 0.00\n",
       "Params size (MB): 0.00\n",
       "Estimated Total Size (MB): 0.00\n",
       "=========================================================================================="
      ]
     },
     "execution_count": 9,
     "metadata": {},
     "output_type": "execute_result"
    }
   ],
   "source": [
    "from torchinfo import summary\n",
    "summary(model,input_size=(10,5))"
   ]
  },
  {
   "cell_type": "code",
   "execution_count": 10,
   "id": "04521ca8-d2a6-4d34-917a-61997b6ef31e",
   "metadata": {},
   "outputs": [],
   "source": [
    "# till now we have done on 5 input and one output or simply one neuron\n",
    "# now 5 input which will produce 3 output then this 3 will go in one neuron so on..\n",
    "class Model(nn.Module):\n",
    "    def __init__(self, num_features):\n",
    "        super().__init__()\n",
    "        self.linear1 = nn.Linear(num_features, 3)  # First linear layer\n",
    "        self.relu = nn.ReLU()  # ReLU activation function\n",
    "        self.linear2 = nn.Linear(3, 1)  # Second linear layer\n",
    "        self.sigmoid = nn.Sigmoid()  # Sigmoid activation function\n",
    "        \n",
    "    def forward(self, features):\n",
    "        out = self.linear1(features)\n",
    "        out = self.relu(out)  # Apply ReLU after the first linear layer\n",
    "        out = self.linear2(out)  # Apply the second linear layer\n",
    "        out = self.sigmoid(out)  # Apply Sigmoid for the output\n",
    "        return out"
   ]
  },
  {
   "cell_type": "code",
   "execution_count": 11,
   "id": "3c69fda0-f89d-4650-a055-649dc5df8710",
   "metadata": {},
   "outputs": [
    {
     "data": {
      "text/plain": [
       "(torch.Size([5, 5]),\n",
       " tensor([[0.8681, 0.7123, 0.1270, 0.7893, 0.8766],\n",
       "         [0.3132, 0.8794, 0.9237, 0.5880, 0.8278],\n",
       "         [0.0084, 0.2495, 0.9787, 0.9994, 0.2389],\n",
       "         [0.4815, 0.9303, 0.3260, 0.0802, 0.8575],\n",
       "         [0.1724, 0.1662, 0.1399, 0.8106, 0.9149]]))"
      ]
     },
     "execution_count": 11,
     "metadata": {},
     "output_type": "execute_result"
    }
   ],
   "source": [
    "inp = t.rand(5,5)\n",
    "inp.shape,inp"
   ]
  },
  {
   "cell_type": "code",
   "execution_count": 12,
   "id": "6320efec-84c5-4056-8d06-f280749da3d8",
   "metadata": {},
   "outputs": [],
   "source": [
    "mdl = Model(inp.shape[1])"
   ]
  },
  {
   "cell_type": "code",
   "execution_count": 13,
   "id": "88036b63-099b-4821-9eea-b30684c68937",
   "metadata": {},
   "outputs": [
    {
     "data": {
      "text/plain": [
       "tensor([[0.5041],\n",
       "        [0.5279],\n",
       "        [0.5259],\n",
       "        [0.5187],\n",
       "        [0.5088]], grad_fn=<SigmoidBackward0>)"
      ]
     },
     "execution_count": 13,
     "metadata": {},
     "output_type": "execute_result"
    }
   ],
   "source": [
    "mdl(inp)"
   ]
  },
  {
   "cell_type": "code",
   "execution_count": 19,
   "id": "a2edd7df-eebf-4de8-972f-46c9c2830592",
   "metadata": {},
   "outputs": [
    {
     "data": {
      "text/plain": [
       "Parameter containing:\n",
       "tensor([[-0.4241,  0.0467,  0.2841, -0.3425, -0.2360],\n",
       "        [ 0.1807,  0.1659,  0.3161, -0.0856,  0.0344],\n",
       "        [ 0.0638,  0.1606, -0.3449,  0.4213,  0.3258]], requires_grad=True)"
      ]
     },
     "execution_count": 19,
     "metadata": {},
     "output_type": "execute_result"
    }
   ],
   "source": [
    "mdl.linear1.weight"
   ]
  },
  {
   "cell_type": "code",
   "execution_count": 18,
   "id": "f804180f-e647-438d-9a2f-7fee45956646",
   "metadata": {},
   "outputs": [
    {
     "name": "stdout",
     "output_type": "stream",
     "text": [
      "Parameter containing:\n",
      "tensor([[-0.4241,  0.0467,  0.2841, -0.3425, -0.2360],\n",
      "        [ 0.1807,  0.1659,  0.3161, -0.0856,  0.0344],\n",
      "        [ 0.0638,  0.1606, -0.3449,  0.4213,  0.3258]], requires_grad=True)\n",
      "Parameter containing:\n",
      "tensor([-0.4075, -0.3857, -0.0513], requires_grad=True)\n",
      "Parameter containing:\n",
      "tensor([[ 0.1468,  0.3825, -0.1612]], requires_grad=True)\n",
      "Parameter containing:\n",
      "tensor([0.1281], requires_grad=True)\n"
     ]
    }
   ],
   "source": [
    "\n",
    "for i in mdl.parameters():\n",
    "    print(i)"
   ]
  },
  {
   "cell_type": "code",
   "execution_count": 15,
   "id": "35f11225-21e0-4757-8a58-020ae7301f75",
   "metadata": {},
   "outputs": [
    {
     "data": {
      "text/plain": [
       "Parameter containing:\n",
       "tensor([[ 0.1468,  0.3825, -0.1612]], requires_grad=True)"
      ]
     },
     "execution_count": 15,
     "metadata": {},
     "output_type": "execute_result"
    }
   ],
   "source": [
    "mdl.linear2.weight"
   ]
  },
  {
   "cell_type": "code",
   "execution_count": 43,
   "id": "af8ff0d8-d3b1-4098-9d03-ce0c38f020a9",
   "metadata": {},
   "outputs": [],
   "source": [
    "# in forward pass we pass each step manually it become hard if we have big network so we use container(sequential) for that\n",
    "class Model(nn.Module):\n",
    "    def __init__(self, num_features):\n",
    "        super().__init__()\n",
    "        self.network = nn.Sequential(\n",
    "            nn.Linear(num_features, 3) , # First linear layer\n",
    "            nn.ReLU() , # ReLU activation function\n",
    "            nn.Linear(3, 1),  # Second linear layer\n",
    "            nn.Sigmoid()  # Sigmoid activation function\n",
    "            \n",
    "        )\n",
    "    def forward(self, features):\n",
    "        return self.network(\n",
    "            features\n",
    "        )\n"
   ]
  },
  {
   "cell_type": "code",
   "execution_count": 44,
   "id": "22879cb0-bd12-4279-aadd-3be311957ab1",
   "metadata": {},
   "outputs": [
    {
     "data": {
      "text/plain": [
       "(torch.Size([5, 5]),\n",
       " tensor([[0.2866, 0.1256, 0.5634, 0.8655, 0.6377],\n",
       "         [0.7382, 0.0359, 0.9902, 0.1915, 0.5282],\n",
       "         [0.6677, 0.9474, 0.5506, 0.7040, 0.1622],\n",
       "         [0.9403, 0.0353, 0.5022, 0.0634, 0.4059],\n",
       "         [0.8309, 0.4213, 0.6327, 0.4139, 0.2380]]))"
      ]
     },
     "execution_count": 44,
     "metadata": {},
     "output_type": "execute_result"
    }
   ],
   "source": [
    "inp = t.rand(5,5)\n",
    "inp.shape,inp"
   ]
  },
  {
   "cell_type": "code",
   "execution_count": 45,
   "id": "d46eef35-eda8-44fc-9798-9d4ef14f0517",
   "metadata": {},
   "outputs": [],
   "source": [
    "mdl1 = Model(inp.shape[1])"
   ]
  },
  {
   "cell_type": "code",
   "execution_count": 46,
   "id": "3dff302f-1ef6-4168-84b9-2d7986bf4621",
   "metadata": {},
   "outputs": [
    {
     "data": {
      "text/plain": [
       "tensor([[0.3484],\n",
       "        [0.3586],\n",
       "        [0.3226],\n",
       "        [0.3534],\n",
       "        [0.3356]], grad_fn=<SigmoidBackward0>)"
      ]
     },
     "execution_count": 46,
     "metadata": {},
     "output_type": "execute_result"
    }
   ],
   "source": [
    "mdl1(inp)"
   ]
  },
  {
   "cell_type": "code",
   "execution_count": null,
   "id": "a0bd5478-dd40-4652-8fba-507e739b7b73",
   "metadata": {},
   "outputs": [],
   "source": []
  }
 ],
 "metadata": {
  "kernelspec": {
   "display_name": "Python 3 (ipykernel)",
   "language": "python",
   "name": "python3"
  },
  "language_info": {
   "codemirror_mode": {
    "name": "ipython",
    "version": 3
   },
   "file_extension": ".py",
   "mimetype": "text/x-python",
   "name": "python",
   "nbconvert_exporter": "python",
   "pygments_lexer": "ipython3",
   "version": "3.12.3"
  }
 },
 "nbformat": 4,
 "nbformat_minor": 5
}
