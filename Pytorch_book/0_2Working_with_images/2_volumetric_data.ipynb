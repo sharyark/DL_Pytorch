{
 "cells": [
  {
   "cell_type": "code",
   "execution_count": null,
   "id": "1bfb38e5",
   "metadata": {},
   "outputs": [
    {
     "name": "stderr",
     "output_type": "stream",
     "text": [
      "/tmp/ipykernel_7321/4239778647.py:3: DeprecationWarning: Starting with ImageIO v3 the behavior of this function will switch to that of iio.v3.imread. To keep the current behavior (and make this warning disappear) use `import imageio.v2 as imageio` or call `imageio.v2.imread` directly.\n",
      "  img_arr = imageio.imread('../DL_with_pytorch_notebook/data/p1ch4/volumetric-dicom/2-LUNG 3.0  B70f-04083')\n"
     ]
    },
    {
     "ename": "ValueError",
     "evalue": "ImageIO does not generally support reading folders. Limited support may be available via specific plugins. Specify the plugin explicitly using the `plugin` kwarg, e.g. `plugin='DICOM'`",
     "output_type": "error",
     "traceback": [
      "\u001b[31m---------------------------------------------------------------------------\u001b[39m",
      "\u001b[31mValueError\u001b[39m                                Traceback (most recent call last)",
      "\u001b[36mCell\u001b[39m\u001b[36m \u001b[39m\u001b[32mIn[5]\u001b[39m\u001b[32m, line 3\u001b[39m\n\u001b[32m      1\u001b[39m \u001b[38;5;28;01mimport\u001b[39;00m\u001b[38;5;250m \u001b[39m\u001b[34;01mimageio\u001b[39;00m\n\u001b[32m----> \u001b[39m\u001b[32m3\u001b[39m img_arr = \u001b[43mimageio\u001b[49m\u001b[43m.\u001b[49m\u001b[43mimread\u001b[49m\u001b[43m(\u001b[49m\u001b[33;43m'\u001b[39;49m\u001b[33;43m../DL_with_pytorch_notebook/data/p1ch4/volumetric-dicom/2-LUNG 3.0  B70f-04083\u001b[39;49m\u001b[33;43m'\u001b[39;49m\u001b[43m)\u001b[49m\n\u001b[32m      4\u001b[39m img_arr.shape\n",
      "\u001b[36mFile \u001b[39m\u001b[32m~/Desktop/genAi/lib/python3.12/site-packages/imageio/__init__.py:97\u001b[39m, in \u001b[36mimread\u001b[39m\u001b[34m(uri, format, **kwargs)\u001b[39m\n\u001b[32m     68\u001b[39m \u001b[38;5;250m\u001b[39m\u001b[33;03m\"\"\"imread(uri, format=None, **kwargs)\u001b[39;00m\n\u001b[32m     69\u001b[39m \n\u001b[32m     70\u001b[39m \u001b[33;03mReads an image from the specified file. Returns a numpy array, which\u001b[39;00m\n\u001b[32m   (...)\u001b[39m\u001b[32m     86\u001b[39m \u001b[33;03m    to see what arguments are available for a particular format.\u001b[39;00m\n\u001b[32m     87\u001b[39m \u001b[33;03m\"\"\"\u001b[39;00m\n\u001b[32m     89\u001b[39m warnings.warn(\n\u001b[32m     90\u001b[39m     \u001b[33m\"\u001b[39m\u001b[33mStarting with ImageIO v3 the behavior of this function will switch to that of\u001b[39m\u001b[33m\"\u001b[39m\n\u001b[32m     91\u001b[39m     \u001b[33m\"\u001b[39m\u001b[33m iio.v3.imread. To keep the current behavior (and make this warning disappear)\u001b[39m\u001b[33m\"\u001b[39m\n\u001b[32m   (...)\u001b[39m\u001b[32m     94\u001b[39m     stacklevel=\u001b[32m2\u001b[39m,\n\u001b[32m     95\u001b[39m )\n\u001b[32m---> \u001b[39m\u001b[32m97\u001b[39m \u001b[38;5;28;01mreturn\u001b[39;00m \u001b[43mimread_v2\u001b[49m\u001b[43m(\u001b[49m\u001b[43muri\u001b[49m\u001b[43m,\u001b[49m\u001b[43m \u001b[49m\u001b[38;5;28;43mformat\u001b[39;49m\u001b[43m=\u001b[49m\u001b[38;5;28;43mformat\u001b[39;49m\u001b[43m,\u001b[49m\u001b[43m \u001b[49m\u001b[43m*\u001b[49m\u001b[43m*\u001b[49m\u001b[43mkwargs\u001b[49m\u001b[43m)\u001b[49m\n",
      "\u001b[36mFile \u001b[39m\u001b[32m~/Desktop/genAi/lib/python3.12/site-packages/imageio/v2.py:359\u001b[39m, in \u001b[36mimread\u001b[39m\u001b[34m(uri, format, **kwargs)\u001b[39m\n\u001b[32m    356\u001b[39m imopen_args = decypher_format_arg(\u001b[38;5;28mformat\u001b[39m)\n\u001b[32m    357\u001b[39m imopen_args[\u001b[33m\"\u001b[39m\u001b[33mlegacy_mode\u001b[39m\u001b[33m\"\u001b[39m] = \u001b[38;5;28;01mTrue\u001b[39;00m\n\u001b[32m--> \u001b[39m\u001b[32m359\u001b[39m \u001b[38;5;28;01mwith\u001b[39;00m \u001b[43mimopen\u001b[49m\u001b[43m(\u001b[49m\u001b[43muri\u001b[49m\u001b[43m,\u001b[49m\u001b[43m \u001b[49m\u001b[33;43m\"\u001b[39;49m\u001b[33;43mri\u001b[39;49m\u001b[33;43m\"\u001b[39;49m\u001b[43m,\u001b[49m\u001b[43m \u001b[49m\u001b[43m*\u001b[49m\u001b[43m*\u001b[49m\u001b[43mimopen_args\u001b[49m\u001b[43m)\u001b[49m \u001b[38;5;28;01mas\u001b[39;00m file:\n\u001b[32m    360\u001b[39m     result = file.read(index=\u001b[32m0\u001b[39m, **kwargs)\n\u001b[32m    362\u001b[39m \u001b[38;5;28;01mreturn\u001b[39;00m result\n",
      "\u001b[36mFile \u001b[39m\u001b[32m~/Desktop/genAi/lib/python3.12/site-packages/imageio/core/imopen.py:223\u001b[39m, in \u001b[36mimopen\u001b[39m\u001b[34m(uri, io_mode, plugin, extension, format_hint, legacy_mode, **kwargs)\u001b[39m\n\u001b[32m    217\u001b[39m     err_type = \u001b[38;5;167;01mValueError\u001b[39;00m \u001b[38;5;28;01mif\u001b[39;00m legacy_mode \u001b[38;5;28;01melse\u001b[39;00m \u001b[38;5;167;01mIOError\u001b[39;00m\n\u001b[32m    218\u001b[39m     err_msg = (\n\u001b[32m    219\u001b[39m         \u001b[33m\"\u001b[39m\u001b[33mImageIO does not generally support reading folders. \u001b[39m\u001b[33m\"\u001b[39m\n\u001b[32m    220\u001b[39m         \u001b[33m\"\u001b[39m\u001b[33mLimited support may be available via specific plugins. \u001b[39m\u001b[33m\"\u001b[39m\n\u001b[32m    221\u001b[39m         \u001b[33m\"\u001b[39m\u001b[33mSpecify the plugin explicitly using the `plugin` kwarg, e.g. `plugin=\u001b[39m\u001b[33m'\u001b[39m\u001b[33mDICOM\u001b[39m\u001b[33m'\u001b[39m\u001b[33m`\u001b[39m\u001b[33m\"\u001b[39m\n\u001b[32m    222\u001b[39m     )\n\u001b[32m--> \u001b[39m\u001b[32m223\u001b[39m     \u001b[38;5;28;01mraise\u001b[39;00m err_type(err_msg)\n\u001b[32m    225\u001b[39m \u001b[38;5;66;03m# close the current request here and use fresh/new ones while trying each\u001b[39;00m\n\u001b[32m    226\u001b[39m \u001b[38;5;66;03m# plugin This is slow (means potentially reopening a resource several\u001b[39;00m\n\u001b[32m    227\u001b[39m \u001b[38;5;66;03m# times), but should only happen rarely because this is the fallback if all\u001b[39;00m\n\u001b[32m    228\u001b[39m \u001b[38;5;66;03m# else fails.\u001b[39;00m\n\u001b[32m    229\u001b[39m request.finish()\n",
      "\u001b[31mValueError\u001b[39m: ImageIO does not generally support reading folders. Limited support may be available via specific plugins. Specify the plugin explicitly using the `plugin` kwarg, e.g. `plugin='DICOM'`"
     ]
    }
   ],
   "source": [
    "import imageio\n",
    "\n",
    "# Read a volumetric DICOM series (directory) as a 3D numpy array\n",
    "img_arr = imageio.volread('../DL_with_pytorch_notebook/data/p1ch4/volumetric-dicom/2-LUNG 3.0  B70f-04083')\n",
    "img_arr.shape\n"
   ]
  },
  {
   "cell_type": "code",
   "execution_count": null,
   "id": "3130f1fe",
   "metadata": {},
   "outputs": [],
   "source": []
  }
 ],
 "metadata": {
  "kernelspec": {
   "display_name": "genAi",
   "language": "python",
   "name": "python3"
  },
  "language_info": {
   "codemirror_mode": {
    "name": "ipython",
    "version": 3
   },
   "file_extension": ".py",
   "mimetype": "text/x-python",
   "name": "python",
   "nbconvert_exporter": "python",
   "pygments_lexer": "ipython3",
   "version": "3.12.3"
  }
 },
 "nbformat": 4,
 "nbformat_minor": 5
}
