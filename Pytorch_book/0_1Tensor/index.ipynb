{
 "cells": [
  {
   "cell_type": "code",
   "execution_count": 2,
   "id": "c2c45d9d",
   "metadata": {},
   "outputs": [],
   "source": [
    "import torch as t"
   ]
  },
  {
   "cell_type": "code",
   "execution_count": 15,
   "id": "edb622f1",
   "metadata": {},
   "outputs": [],
   "source": [
    "img_t = t.randn(3,5,5) # shape channel , row , column"
   ]
  },
  {
   "cell_type": "code",
   "execution_count": 21,
   "id": "cbf39452",
   "metadata": {},
   "outputs": [
    {
     "name": "stdout",
     "output_type": "stream",
     "text": [
      "tensor([[[ 0.7156,  0.2470,  1.1931, -1.4186,  1.1772],\n",
      "         [-0.1807,  0.6364,  0.3593, -0.7135,  0.0557],\n",
      "         [ 0.9232, -2.8855, -0.5095, -1.0376,  1.3479],\n",
      "         [ 0.9284, -0.7331, -0.5101, -1.3936,  0.5511],\n",
      "         [-0.5508,  0.0040, -0.9210,  1.3493,  0.2376]],\n",
      "\n",
      "        [[ 1.0950, -0.2909,  0.0457, -0.4847, -0.7760],\n",
      "         [ 0.7519, -1.3659,  1.1014,  1.2233, -1.4958],\n",
      "         [ 0.7668,  0.2530,  0.6511,  1.7448, -0.7892],\n",
      "         [ 2.5436,  0.8745,  0.4416, -1.4300, -0.0377],\n",
      "         [ 0.7477,  0.2916,  0.5981,  0.5357,  1.5522]],\n",
      "\n",
      "        [[-2.4487,  1.3965, -0.4915, -0.9916, -0.3269],\n",
      "         [-0.4533, -0.4725,  2.3020,  1.1231,  0.1678],\n",
      "         [-0.0247, -0.6056, -0.1796,  0.3994, -0.1830],\n",
      "         [-0.3378, -1.1091, -1.0070, -0.3805,  0.0228],\n",
      "         [ 0.7667,  0.0895, -0.3358, -0.8230,  0.7378]]])\n",
      "torch.Size([3, 5, 5])\n"
     ]
    },
    {
     "data": {
      "text/plain": [
       "(None, None)"
      ]
     },
     "execution_count": 21,
     "metadata": {},
     "output_type": "execute_result"
    }
   ],
   "source": [
    "print(img_t),print(img_t.shape)"
   ]
  },
  {
   "cell_type": "code",
   "execution_count": null,
   "id": "cfb0d798",
   "metadata": {},
   "outputs": [],
   "source": [
    "weights = t.tensor([0.2126, 0.7152, 0.0722])  "
   ]
  },
  {
   "cell_type": "code",
   "execution_count": 18,
   "id": "939e29fd",
   "metadata": {},
   "outputs": [],
   "source": [
    "batch = t.randn(2,3,5,5) # shape batch ,channel , row , column\n",
    "# print(batch)"
   ]
  },
  {
   "cell_type": "code",
   "execution_count": 19,
   "id": "7c7784ab",
   "metadata": {},
   "outputs": [
    {
     "data": {
      "text/plain": [
       "tensor([[-0.2127,  0.4509,  0.2491, -0.9650,  0.0248],\n",
       "        [ 0.0393, -0.4007,  1.2543,  0.5443, -0.4241],\n",
       "        [ 0.5551, -1.0794, -0.0127,  0.3689,  0.1252],\n",
       "        [ 1.0447, -0.3226, -0.3585, -1.0680,  0.1787],\n",
       "        [ 0.3212,  0.1284, -0.2196,  0.3540,  0.8426]])"
      ]
     },
     "execution_count": 19,
     "metadata": {},
     "output_type": "execute_result"
    }
   ],
   "source": [
    "img_t.mean(-3)"
   ]
  },
  {
   "cell_type": "code",
   "execution_count": 20,
   "id": "f3e86913",
   "metadata": {},
   "outputs": [
    {
     "data": {
      "text/plain": [
       "tensor([[[-0.4232,  0.8774,  0.6346,  0.4660,  0.3559],\n",
       "         [-0.5213, -0.7217,  0.2641, -0.9922, -0.0090],\n",
       "         [-0.4224, -0.4648,  0.3842, -0.7168, -0.5463],\n",
       "         [-0.4181,  0.2028,  0.5602, -0.8687, -0.5592],\n",
       "         [-0.2756, -0.9077, -0.0645, -0.7758, -0.8300]],\n",
       "\n",
       "        [[ 1.2017, -0.4505,  0.4148, -0.1362, -0.2491],\n",
       "         [-1.1299,  0.0543, -0.4264, -0.4249,  0.0404],\n",
       "         [ 0.2602,  0.2226, -0.4503,  0.1257, -0.8114],\n",
       "         [-0.4483, -0.3730, -0.6157, -0.0386, -0.4275],\n",
       "         [ 0.4415,  0.0522,  0.2885,  0.2227, -0.0947]]])"
      ]
     },
     "execution_count": 20,
     "metadata": {},
     "output_type": "execute_result"
    }
   ],
   "source": [
    "batch.mean(-3)"
   ]
  },
  {
   "cell_type": "code",
   "execution_count": 25,
   "id": "f1510732",
   "metadata": {},
   "outputs": [
    {
     "name": "stdout",
     "output_type": "stream",
     "text": [
      "tensor([[[0.2126]],\n",
      "\n",
      "        [[0.7152]],\n",
      "\n",
      "        [[0.0722]]])\n",
      "torch.Size([3, 1, 1])\n"
     ]
    },
    {
     "data": {
      "text/plain": [
       "(None, None)"
      ]
     },
     "execution_count": 25,
     "metadata": {},
     "output_type": "execute_result"
    }
   ],
   "source": [
    "unsqueezed = weights.unsqueeze(-1).unsqueeze(-1)\n",
    "print(unsqueezed),print(unsqueezed.shape)"
   ]
  },
  {
   "cell_type": "code",
   "execution_count": 26,
   "id": "74661fcf",
   "metadata": {},
   "outputs": [
    {
     "data": {
      "text/plain": [
       "tensor([[0.2126],\n",
       "        [0.7152],\n",
       "        [0.0722]])"
      ]
     },
     "execution_count": 26,
     "metadata": {},
     "output_type": "execute_result"
    }
   ],
   "source": [
    " weights.unsqueeze(-1)"
   ]
  },
  {
   "cell_type": "code",
   "execution_count": null,
   "id": "6bbefd8d",
   "metadata": {},
   "outputs": [],
   "source": []
  }
 ],
 "metadata": {
  "kernelspec": {
   "display_name": "genAi",
   "language": "python",
   "name": "python3"
  },
  "language_info": {
   "codemirror_mode": {
    "name": "ipython",
    "version": 3
   },
   "file_extension": ".py",
   "mimetype": "text/x-python",
   "name": "python",
   "nbconvert_exporter": "python",
   "pygments_lexer": "ipython3",
   "version": "3.12.3"
  }
 },
 "nbformat": 4,
 "nbformat_minor": 5
}
